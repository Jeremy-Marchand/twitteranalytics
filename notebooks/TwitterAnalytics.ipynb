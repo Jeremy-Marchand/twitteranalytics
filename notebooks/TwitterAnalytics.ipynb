{
 "cells": [
  {
   "cell_type": "code",
   "execution_count": 2,
   "id": "438ef389",
   "metadata": {
    "ExecuteTime": {
     "end_time": "2022-04-04T17:05:43.745155Z",
     "start_time": "2022-04-04T17:05:40.878223Z"
    }
   },
   "outputs": [],
   "source": [
    "import os\n",
    "# from dotenv import load_dotenv, find_dotenv\n",
    "from datetime import datetime\n",
    "import pandas as pd\n",
    "import time\n",
    "from google.cloud import bigquery\n",
    "import requests\n",
    "import numpy as np"
   ]
  },
  {
   "cell_type": "markdown",
   "id": "10239e44",
   "metadata": {},
   "source": [
    "# Querying the database\n"
   ]
  },
  {
   "cell_type": "code",
   "execution_count": 9,
   "id": "cc478aee",
   "metadata": {
    "ExecuteTime": {
     "end_time": "2022-04-04T17:05:52.604814Z",
     "start_time": "2022-04-04T17:05:44.880468Z"
    },
    "scrolled": true
   },
   "outputs": [],
   "source": [
    "def query_gbq(start_date, end_date):\n",
    "    query = \"\"\"\n",
    "        SELECT *\n",
    "        FROM `wagon-bootcamp-802.my_dataset.new_table`\n",
    "        WHERE created_at < {} AND created_at > {}\n",
    "        ORDER BY created_at DESC\n",
    "        LIMIT 100\n",
    "    \"\"\"\n",
    "    # Run a Standard SQL query with the project set explicitly\n",
    "    final_query = query.format(start_date, end_date)\n",
    "    project_id = 'wagon-bootcamp-802'\n",
    "    df = pd.read_gbq(final_query, project_id=project_id, dialect='standard')\n",
    "    return df"
   ]
  },
  {
   "cell_type": "code",
   "execution_count": 10,
   "id": "5961bfa2",
   "metadata": {},
   "outputs": [],
   "source": [
    "start_date = '\"2022-04-05 15:25:49+00:00\"'\n",
    "end_date = '\"2022-04-05 15:24:59+00:00\"'\n",
    "df = query_gbq(start_date, end_date)"
   ]
  },
  {
   "cell_type": "code",
   "execution_count": 11,
   "id": "b7739bd9",
   "metadata": {
    "ExecuteTime": {
     "end_time": "2022-04-04T17:05:52.965023Z",
     "start_time": "2022-04-04T17:05:52.813768Z"
    }
   },
   "outputs": [
    {
     "data": {
      "text/plain": [
       "(3, 4)"
      ]
     },
     "execution_count": 11,
     "metadata": {},
     "output_type": "execute_result"
    }
   ],
   "source": [
    "df.shape"
   ]
  },
  {
   "cell_type": "markdown",
   "id": "036562ad",
   "metadata": {},
   "source": [
    "# Cleaning the data"
   ]
  },
  {
   "cell_type": "markdown",
   "id": "6dbb1117",
   "metadata": {},
   "source": [
    "## Removing Retweet indicator and @ mentions"
   ]
  },
  {
   "cell_type": "code",
   "execution_count": 4,
   "id": "46eb1f3f",
   "metadata": {
    "ExecuteTime": {
     "end_time": "2022-04-04T17:05:57.259469Z",
     "start_time": "2022-04-04T17:05:56.601347Z"
    }
   },
   "outputs": [
    {
     "name": "stderr",
     "output_type": "stream",
     "text": [
      "/tmp/ipykernel_922/4039097212.py:2: FutureWarning: The default value of regex will change from True to False in a future version.\n",
      "  df_clean['text'] = df_clean['text'].str.replace(r'RT @\\S* ', '')\n",
      "/tmp/ipykernel_922/4039097212.py:3: FutureWarning: The default value of regex will change from True to False in a future version.\n",
      "  df_clean['text'] = df_clean['text'].str.replace(r'@\\S* ', '')\n",
      "/tmp/ipykernel_922/4039097212.py:4: FutureWarning: The default value of regex will change from True to False in a future version.\n",
      "  df_clean['text'] = df_clean['text'].str.replace(r'http\\S*', '')\n"
     ]
    }
   ],
   "source": [
    "df_clean = df.copy()\n",
    "df_clean['text'] = df_clean['text'].str.replace(r'RT @\\S* ', '')\n",
    "df_clean['text'] = df_clean['text'].str.replace(r'@\\S* ', '')\n",
    "df_clean['text'] = df_clean['text'].str.replace(r'http\\S*', '')"
   ]
  },
  {
   "cell_type": "markdown",
   "id": "9362d356",
   "metadata": {},
   "source": [
    "## Removing punct"
   ]
  },
  {
   "cell_type": "code",
   "execution_count": 5,
   "id": "8c44c188",
   "metadata": {
    "ExecuteTime": {
     "end_time": "2022-04-04T17:06:00.814139Z",
     "start_time": "2022-04-04T17:05:59.728438Z"
    }
   },
   "outputs": [],
   "source": [
    "import string\n",
    "def punct_remove(text):\n",
    "    for punctuation in string.punctuation:\n",
    "        text = text.replace(punctuation, '') \n",
    "    return text\n",
    "df_clean['text'] = df_clean['text'].apply(punct_remove)"
   ]
  },
  {
   "cell_type": "markdown",
   "id": "c8da6c02",
   "metadata": {},
   "source": [
    "## All lower"
   ]
  },
  {
   "cell_type": "code",
   "execution_count": 6,
   "id": "a9181ab4",
   "metadata": {
    "ExecuteTime": {
     "end_time": "2022-04-04T17:06:00.992735Z",
     "start_time": "2022-04-04T17:06:00.822712Z"
    }
   },
   "outputs": [],
   "source": [
    "df_clean['text'] = df_clean['text'].apply(lambda row : row.lower())"
   ]
  },
  {
   "cell_type": "markdown",
   "id": "0cb2d7fc",
   "metadata": {},
   "source": [
    "## Removing numbers"
   ]
  },
  {
   "cell_type": "code",
   "execution_count": 7,
   "id": "37533119",
   "metadata": {
    "ExecuteTime": {
     "end_time": "2022-04-04T17:06:02.997210Z",
     "start_time": "2022-04-04T17:06:00.999183Z"
    }
   },
   "outputs": [],
   "source": [
    "def num_remove(text):\n",
    "    text_rwkd = ''\n",
    "    for car in text:\n",
    "        text_rwkd += car if not car.isdigit() else ''\n",
    "    return text_rwkd\n",
    "\n",
    "df_clean['text'] = df_clean['text'].apply(num_remove)"
   ]
  },
  {
   "cell_type": "markdown",
   "id": "e9fd3c60",
   "metadata": {
    "ExecuteTime": {
     "end_time": "2022-03-31T09:06:02.881379Z",
     "start_time": "2022-03-31T09:06:02.878812Z"
    }
   },
   "source": [
    "## Removing stopwords"
   ]
  },
  {
   "cell_type": "code",
   "execution_count": 8,
   "id": "2abc03af",
   "metadata": {
    "ExecuteTime": {
     "end_time": "2022-04-04T17:07:07.927483Z",
     "start_time": "2022-04-04T17:06:03.006944Z"
    }
   },
   "outputs": [],
   "source": [
    "from nltk.corpus import stopwords \n",
    "from nltk.tokenize import word_tokenize\n",
    "\n",
    "def stop_remove(text):\n",
    "    stop_words = set(stopwords.words('english')) \n",
    "    word_tokens = word_tokenize(text) \n",
    "    return \" \".join([w for w in word_tokens if not w in stop_words])\n",
    "\n",
    "df_clean['text'] = df_clean['text'].apply(stop_remove)\n",
    "df_clean['text'] = df_clean['text'].str.replace(r' f ', ' f1 ')"
   ]
  },
  {
   "cell_type": "code",
   "execution_count": 9,
   "id": "9f2b5fa9",
   "metadata": {
    "ExecuteTime": {
     "end_time": "2022-04-04T17:07:08.013495Z",
     "start_time": "2022-04-04T17:07:07.933552Z"
    }
   },
   "outputs": [
    {
     "data": {
      "text/html": [
       "<div>\n",
       "<style scoped>\n",
       "    .dataframe tbody tr th:only-of-type {\n",
       "        vertical-align: middle;\n",
       "    }\n",
       "\n",
       "    .dataframe tbody tr th {\n",
       "        vertical-align: top;\n",
       "    }\n",
       "\n",
       "    .dataframe thead th {\n",
       "        text-align: right;\n",
       "    }\n",
       "</style>\n",
       "<table border=\"1\" class=\"dataframe\">\n",
       "  <thead>\n",
       "    <tr style=\"text-align: right;\">\n",
       "      <th></th>\n",
       "      <th>created_at</th>\n",
       "      <th>text</th>\n",
       "      <th>id</th>\n",
       "      <th>lang</th>\n",
       "    </tr>\n",
       "  </thead>\n",
       "  <tbody>\n",
       "    <tr>\n",
       "      <th>0</th>\n",
       "      <td>2022-04-04 17:03:48+00:00</td>\n",
       "      <td>RT @AstonMartinF1: Guess who's back? Let's do ...</td>\n",
       "      <td>1511026762075062279</td>\n",
       "      <td>en</td>\n",
       "    </tr>\n",
       "    <tr>\n",
       "      <th>1</th>\n",
       "      <td>2022-04-04 17:03:48+00:00</td>\n",
       "      <td>RT @AstonMartinF1: Guess who's back? Let's do ...</td>\n",
       "      <td>1511026761689186305</td>\n",
       "      <td>en</td>\n",
       "    </tr>\n",
       "    <tr>\n",
       "      <th>2</th>\n",
       "      <td>2022-04-04 17:03:46+00:00</td>\n",
       "      <td>RT @AstonMartinF1: Guess who's back? Let's do ...</td>\n",
       "      <td>1511026752759296003</td>\n",
       "      <td>en</td>\n",
       "    </tr>\n",
       "    <tr>\n",
       "      <th>3</th>\n",
       "      <td>2022-04-04 17:03:45+00:00</td>\n",
       "      <td>RT @AstonMartinF1: Guess who's back? Let's do ...</td>\n",
       "      <td>1511026751127932941</td>\n",
       "      <td>en</td>\n",
       "    </tr>\n",
       "    <tr>\n",
       "      <th>4</th>\n",
       "      <td>2022-04-04 17:03:44+00:00</td>\n",
       "      <td>RT @AstonMartinF1: Guess who's back? Let's do ...</td>\n",
       "      <td>1511026746530811913</td>\n",
       "      <td>en</td>\n",
       "    </tr>\n",
       "  </tbody>\n",
       "</table>\n",
       "</div>"
      ],
      "text/plain": [
       "                 created_at  \\\n",
       "0 2022-04-04 17:03:48+00:00   \n",
       "1 2022-04-04 17:03:48+00:00   \n",
       "2 2022-04-04 17:03:46+00:00   \n",
       "3 2022-04-04 17:03:45+00:00   \n",
       "4 2022-04-04 17:03:44+00:00   \n",
       "\n",
       "                                                text                   id lang  \n",
       "0  RT @AstonMartinF1: Guess who's back? Let's do ...  1511026762075062279   en  \n",
       "1  RT @AstonMartinF1: Guess who's back? Let's do ...  1511026761689186305   en  \n",
       "2  RT @AstonMartinF1: Guess who's back? Let's do ...  1511026752759296003   en  \n",
       "3  RT @AstonMartinF1: Guess who's back? Let's do ...  1511026751127932941   en  \n",
       "4  RT @AstonMartinF1: Guess who's back? Let's do ...  1511026746530811913   en  "
      ]
     },
     "execution_count": 9,
     "metadata": {},
     "output_type": "execute_result"
    }
   ],
   "source": [
    "df.head()"
   ]
  },
  {
   "cell_type": "code",
   "execution_count": 10,
   "id": "05f5e320",
   "metadata": {
    "ExecuteTime": {
     "end_time": "2022-04-04T17:07:08.057005Z",
     "start_time": "2022-04-04T17:07:08.022650Z"
    }
   },
   "outputs": [
    {
     "data": {
      "text/html": [
       "<div>\n",
       "<style scoped>\n",
       "    .dataframe tbody tr th:only-of-type {\n",
       "        vertical-align: middle;\n",
       "    }\n",
       "\n",
       "    .dataframe tbody tr th {\n",
       "        vertical-align: top;\n",
       "    }\n",
       "\n",
       "    .dataframe thead th {\n",
       "        text-align: right;\n",
       "    }\n",
       "</style>\n",
       "<table border=\"1\" class=\"dataframe\">\n",
       "  <thead>\n",
       "    <tr style=\"text-align: right;\">\n",
       "      <th></th>\n",
       "      <th>created_at</th>\n",
       "      <th>text</th>\n",
       "      <th>id</th>\n",
       "      <th>lang</th>\n",
       "    </tr>\n",
       "  </thead>\n",
       "  <tbody>\n",
       "    <tr>\n",
       "      <th>0</th>\n",
       "      <td>2022-04-04 17:03:48+00:00</td>\n",
       "      <td>guess whos back lets seb 👊 f1 ausgp welcomebac...</td>\n",
       "      <td>1511026762075062279</td>\n",
       "      <td>en</td>\n",
       "    </tr>\n",
       "    <tr>\n",
       "      <th>1</th>\n",
       "      <td>2022-04-04 17:03:48+00:00</td>\n",
       "      <td>guess whos back lets seb 👊 f1 ausgp welcomebac...</td>\n",
       "      <td>1511026761689186305</td>\n",
       "      <td>en</td>\n",
       "    </tr>\n",
       "    <tr>\n",
       "      <th>2</th>\n",
       "      <td>2022-04-04 17:03:46+00:00</td>\n",
       "      <td>guess whos back lets seb 👊 f1 ausgp welcomebac...</td>\n",
       "      <td>1511026752759296003</td>\n",
       "      <td>en</td>\n",
       "    </tr>\n",
       "    <tr>\n",
       "      <th>3</th>\n",
       "      <td>2022-04-04 17:03:45+00:00</td>\n",
       "      <td>guess whos back lets seb 👊 f1 ausgp welcomebac...</td>\n",
       "      <td>1511026751127932941</td>\n",
       "      <td>en</td>\n",
       "    </tr>\n",
       "    <tr>\n",
       "      <th>4</th>\n",
       "      <td>2022-04-04 17:03:44+00:00</td>\n",
       "      <td>guess whos back lets seb 👊 f1 ausgp welcomebac...</td>\n",
       "      <td>1511026746530811913</td>\n",
       "      <td>en</td>\n",
       "    </tr>\n",
       "  </tbody>\n",
       "</table>\n",
       "</div>"
      ],
      "text/plain": [
       "                 created_at  \\\n",
       "0 2022-04-04 17:03:48+00:00   \n",
       "1 2022-04-04 17:03:48+00:00   \n",
       "2 2022-04-04 17:03:46+00:00   \n",
       "3 2022-04-04 17:03:45+00:00   \n",
       "4 2022-04-04 17:03:44+00:00   \n",
       "\n",
       "                                                text                   id lang  \n",
       "0  guess whos back lets seb 👊 f1 ausgp welcomebac...  1511026762075062279   en  \n",
       "1  guess whos back lets seb 👊 f1 ausgp welcomebac...  1511026761689186305   en  \n",
       "2  guess whos back lets seb 👊 f1 ausgp welcomebac...  1511026752759296003   en  \n",
       "3  guess whos back lets seb 👊 f1 ausgp welcomebac...  1511026751127932941   en  \n",
       "4  guess whos back lets seb 👊 f1 ausgp welcomebac...  1511026746530811913   en  "
      ]
     },
     "execution_count": 10,
     "metadata": {},
     "output_type": "execute_result"
    }
   ],
   "source": [
    "df_clean.head()"
   ]
  },
  {
   "cell_type": "code",
   "execution_count": 11,
   "id": "f654450f",
   "metadata": {
    "ExecuteTime": {
     "end_time": "2022-04-04T17:07:08.088641Z",
     "start_time": "2022-04-04T17:07:08.063181Z"
    }
   },
   "outputs": [],
   "source": [
    "drivers = {'Hamilton' : ['hamilton','lewis'],\n",
    "           'Russel' : ['russel','georges'],\n",
    "           'Perez' : ['perez','checo','sergio'],\n",
    "           'Verstappen' : ['verstappen','max'],\n",
    "           'Sainz' : ['sainz','carlos'],\n",
    "           'Leclerc' : ['leclerc','charles'],\n",
    "           'Ricciardo' : ['ricciardo', 'daniel'],\n",
    "           'Norris' : ['norris','lando'],\n",
    "           'Alonso' : ['alonso','fernando'],\n",
    "           'Ocon' : ['ocon','esteban'],\n",
    "           'Schumacher' : ['schumacher','mick'],\n",
    "           'Magnussen' : ['magnussen','kevin'],\n",
    "           'Bottas' : ['bottas','valtteri'],\n",
    "           'Zhou' : ['zhou','guanyu'],\n",
    "           'Gasly' : ['gasly','pierre'],\n",
    "           'Tsunoda' : ['tsunoda','yuki'],\n",
    "           'Stroll' : ['stroll','lance'],\n",
    "           'Hulkenberg' : ['hulkenberg','nico'],\n",
    "           'Albon' : ['albon','alexander'],\n",
    "           'Latifi' : ['latifi','nicholas']}"
   ]
  },
  {
   "cell_type": "code",
   "execution_count": 12,
   "id": "43c40429",
   "metadata": {
    "ExecuteTime": {
     "end_time": "2022-04-04T17:07:11.838855Z",
     "start_time": "2022-04-04T17:07:08.096248Z"
    }
   },
   "outputs": [],
   "source": [
    "nb_tweets = {}\n",
    "for driver, names in drivers.items():\n",
    "    mask = df_clean['text'].str.contains(f\"{names[0]}\", na=False)\n",
    "    if len(names) > 1:\n",
    "        for name in names[1:]:\n",
    "            mask = mask | df_clean['text'].str.contains(f\"{name}\", na=False)\n",
    "    nb_tweets[driver] = len(df_clean[mask])"
   ]
  },
  {
   "cell_type": "code",
   "execution_count": 13,
   "id": "57db5f5f",
   "metadata": {
    "ExecuteTime": {
     "end_time": "2022-04-04T17:07:11.861243Z",
     "start_time": "2022-04-04T17:07:11.844389Z"
    }
   },
   "outputs": [
    {
     "data": {
      "text/plain": [
       "{'Hamilton': 2317,\n",
       " 'Russel': 167,\n",
       " 'Perez': 2143,\n",
       " 'Verstappen': 2410,\n",
       " 'Sainz': 431,\n",
       " 'Leclerc': 1203,\n",
       " 'Ricciardo': 2262,\n",
       " 'Norris': 330,\n",
       " 'Alonso': 453,\n",
       " 'Ocon': 135,\n",
       " 'Schumacher': 1177,\n",
       " 'Magnussen': 105,\n",
       " 'Bottas': 147,\n",
       " 'Zhou': 897,\n",
       " 'Gasly': 634,\n",
       " 'Tsunoda': 240,\n",
       " 'Stroll': 115,\n",
       " 'Hulkenberg': 149,\n",
       " 'Albon': 46,\n",
       " 'Latifi': 82}"
      ]
     },
     "execution_count": 13,
     "metadata": {},
     "output_type": "execute_result"
    }
   ],
   "source": [
    "nb_tweets"
   ]
  },
  {
   "cell_type": "code",
   "execution_count": 14,
   "id": "97348be4",
   "metadata": {
    "ExecuteTime": {
     "end_time": "2022-04-04T17:07:12.004548Z",
     "start_time": "2022-04-04T17:07:11.873133Z"
    }
   },
   "outputs": [
    {
     "data": {
      "text/plain": [
       "'alphatauris transitions 🔥\\u2060 \\u2060 🎥 alphataurif \\u2060 f1 pierregasly yukitsunoda motorsport'"
      ]
     },
     "execution_count": 14,
     "metadata": {},
     "output_type": "execute_result"
    }
   ],
   "source": [
    "one = df_clean['text'].str.contains(f\"gasly\", na=False)\n",
    "df_clean[one].iloc[4]['text']"
   ]
  },
  {
   "cell_type": "code",
   "execution_count": null,
   "id": "41b4cbcc",
   "metadata": {},
   "outputs": [],
   "source": []
  },
  {
   "cell_type": "code",
   "execution_count": null,
   "id": "df95c52e",
   "metadata": {},
   "outputs": [],
   "source": []
  }
 ],
 "metadata": {
  "kernelspec": {
   "display_name": "Python 3 (ipykernel)",
   "language": "python",
   "name": "python3"
  },
  "language_info": {
   "codemirror_mode": {
    "name": "ipython",
    "version": 3
   },
   "file_extension": ".py",
   "mimetype": "text/x-python",
   "name": "python",
   "nbconvert_exporter": "python",
   "pygments_lexer": "ipython3",
   "version": "3.10.1"
  },
  "toc": {
   "base_numbering": 1,
   "nav_menu": {},
   "number_sections": true,
   "sideBar": true,
   "skip_h1_title": false,
   "title_cell": "Table of Contents",
   "title_sidebar": "Contents",
   "toc_cell": false,
   "toc_position": {},
   "toc_section_display": true,
   "toc_window_display": false
  }
 },
 "nbformat": 4,
 "nbformat_minor": 5
}
