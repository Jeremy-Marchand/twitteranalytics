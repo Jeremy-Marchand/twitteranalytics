{
 "cells": [
  {
   "cell_type": "markdown",
   "id": "c6a27177",
   "metadata": {},
   "source": [
    "# Query twitter API"
   ]
  },
  {
   "cell_type": "code",
   "execution_count": 15,
   "id": "3bbc93b8",
   "metadata": {
    "ExecuteTime": {
     "end_time": "2022-05-21T11:47:18.842216Z",
     "start_time": "2022-05-21T11:47:18.835699Z"
    }
   },
   "outputs": [
    {
     "ename": "NameError",
     "evalue": "name '__file__' is not defined",
     "output_type": "error",
     "traceback": [
      "\u001b[0;31m---------------------------------------------------------------------------\u001b[0m",
      "\u001b[0;31mNameError\u001b[0m                                 Traceback (most recent call last)",
      "\u001b[0;32m/tmp/ipykernel_2836/4088459381.py\u001b[0m in \u001b[0;36m<module>\u001b[0;34m\u001b[0m\n\u001b[0;32m----> 1\u001b[0;31m \u001b[0mos\u001b[0m\u001b[0;34m.\u001b[0m\u001b[0mpath\u001b[0m\u001b[0;34m.\u001b[0m\u001b[0mjoin\u001b[0m\u001b[0;34m(\u001b[0m\u001b[0mos\u001b[0m\u001b[0;34m.\u001b[0m\u001b[0mpath\u001b[0m\u001b[0;34m.\u001b[0m\u001b[0mdirname\u001b[0m\u001b[0;34m(\u001b[0m\u001b[0mos\u001b[0m\u001b[0;34m.\u001b[0m\u001b[0mpath\u001b[0m\u001b[0;34m.\u001b[0m\u001b[0mdirname\u001b[0m\u001b[0;34m(\u001b[0m\u001b[0m__file__\u001b[0m\u001b[0;34m)\u001b[0m\u001b[0;34m)\u001b[0m\u001b[0;34m,\u001b[0m\u001b[0;34m'.env'\u001b[0m\u001b[0;34m)\u001b[0m\u001b[0;34m\u001b[0m\u001b[0;34m\u001b[0m\u001b[0m\n\u001b[0m\u001b[1;32m      2\u001b[0m \u001b[0;34m\u001b[0m\u001b[0m\n\u001b[1;32m      3\u001b[0m \u001b[0;34m\u001b[0m\u001b[0m\n\u001b[1;32m      4\u001b[0m \u001b[0;34m\u001b[0m\u001b[0m\n\u001b[1;32m      5\u001b[0m \u001b[0;34m\u001b[0m\u001b[0m\n",
      "\u001b[0;31mNameError\u001b[0m: name '__file__' is not defined"
     ]
    }
   ],
   "source": [
    "os.path.join(os.path.dirname(os.path.dirname(__file__)),'.env')"
   ]
  },
  {
   "cell_type": "code",
   "execution_count": 36,
   "id": "f8c908a4",
   "metadata": {
    "ExecuteTime": {
     "end_time": "2022-05-21T12:04:32.013082Z",
     "start_time": "2022-05-21T12:04:32.004179Z"
    }
   },
   "outputs": [],
   "source": [
    "import os\n",
    "import requests\n",
    "# from dotenv import load_dotenv, find_dotenv\n",
    "from datetime import datetime\n",
    "import pandas as pd\n",
    "from dotenv import load_dotenv, find_dotenv\n",
    "\n",
    "\n",
    "search_url = \"https://api.twitter.com/2/tweets/search/recent\"\n",
    "# Optional params: start_time,end_time,since_id,until_id,max_results,next_token,\n",
    "# expansions,tweet.fields,media.fields,poll.fields,place.fields,user.fields\n",
    "\n",
    "def get_token():\n",
    "    env_path = os.path.join(os.path.dirname(os.getcwd()),'.env')\n",
    "    env_path = find_dotenv() # automatic find \n",
    "    load_dotenv(env_path)\n",
    "    token = os.getenv('TWITTER_BEARER_TOKEN','Key missing in env settings')\n",
    "    return token\n",
    "\n",
    "def last_date_db():\n",
    "    \"\"\"\n",
    "    Method to retrieve the last date in the DB\n",
    "    \"\"\"\n",
    "    # Construct a BigQuery client object.\n",
    "\n",
    "    query = \"\"\"\n",
    "        SELECT created_at\n",
    "        FROM `wagon-bootcamp-802.my_dataset.twitter_table`\n",
    "        ORDER BY created_at DESC\n",
    "        LIMIT 1\n",
    "    \"\"\"\n",
    "    df = pd.read_gbq(query, dialect='standard')\n",
    "    return df.iloc[0]['created_at'].tz_localize(None).isoformat()+'Z'\n",
    "\n",
    "\n",
    "def bearer_oauth(r):\n",
    "    \"\"\"\n",
    "    Method required by bearer token authentication.\n",
    "    \"\"\"\n",
    "    bearer_token = get_token()\n",
    "    r.headers[\"Authorization\"] = f\"Bearer {bearer_token}\"\n",
    "    r.headers[\"User-Agent\"] = \"v2RecentSearchPython\"\n",
    "    return r\n",
    "\n",
    "def connect_to_endpoint(url, params):\n",
    "    response = requests.get(url, auth=bearer_oauth, params=params)\n",
    "    print(response.status_code)\n",
    "    if response.status_code != 200:\n",
    "        raise Exception(response.status_code, response.text)\n",
    "    return response.json()\n",
    "\n",
    "\n",
    "def query_twitter(start_time=None):\n",
    "    query_params = {'query': '#F1','tweet.fields':'created_at,lang', 'start_time':start_time, 'max_results' : '100'}\n",
    "    json_response = connect_to_endpoint(search_url, query_params)\n",
    "    return json_response\n",
    "\n",
    "def func():\n",
    "    '''\n",
    "    Pushing results to GBQ\n",
    "    '''\n",
    "    most_recent_dt = last_date_db()\n",
    "    df = pd.DataFrame(query_twitter(most_recent_dt)['data']).iloc[:-1]\n",
    "    df = df[df['lang'] == 'en']\n",
    "    df['created_at'] = pd.to_datetime(df['created_at'])\n",
    "    table_id = 'wagon-bootcamp-802.my_dataset.twitter_table'\n",
    "    df.to_gbq(table_id, if_exists='append')\n",
    "    print('Done')\n",
    "    return df"
   ]
  },
  {
   "cell_type": "code",
   "execution_count": 37,
   "id": "6018966e",
   "metadata": {
    "ExecuteTime": {
     "end_time": "2022-05-21T12:04:36.781449Z",
     "start_time": "2022-05-21T12:04:32.330705Z"
    }
   },
   "outputs": [
    {
     "name": "stderr",
     "output_type": "stream",
     "text": [
      "/home/jeremymarchand/.pyenv/versions/3.8.12/envs/lewagon/lib/python3.8/site-packages/google/cloud/bigquery/table.py:2009: FutureWarning: Using .astype to convert from timezone-aware dtype to timezone-naive dtype is deprecated and will raise in a future version.  Use obj.tz_localize(None) or obj.tz_convert('UTC').tz_localize(None) instead\n",
      "  df[column] = pandas.Series(df[column], dtype=dtypes[column])\n"
     ]
    },
    {
     "name": "stdout",
     "output_type": "stream",
     "text": [
      "200\n"
     ]
    },
    {
     "name": "stderr",
     "output_type": "stream",
     "text": [
      "100%|██████████████████████████████████████████████████████████████████████████████████| 1/1 [00:00<00:00, 15087.42it/s]"
     ]
    },
    {
     "name": "stdout",
     "output_type": "stream",
     "text": [
      "Done\n"
     ]
    },
    {
     "name": "stderr",
     "output_type": "stream",
     "text": [
      "\n"
     ]
    },
    {
     "data": {
      "text/html": [
       "<div>\n",
       "<style scoped>\n",
       "    .dataframe tbody tr th:only-of-type {\n",
       "        vertical-align: middle;\n",
       "    }\n",
       "\n",
       "    .dataframe tbody tr th {\n",
       "        vertical-align: top;\n",
       "    }\n",
       "\n",
       "    .dataframe thead th {\n",
       "        text-align: right;\n",
       "    }\n",
       "</style>\n",
       "<table border=\"1\" class=\"dataframe\">\n",
       "  <thead>\n",
       "    <tr style=\"text-align: right;\">\n",
       "      <th></th>\n",
       "      <th>lang</th>\n",
       "      <th>created_at</th>\n",
       "      <th>text</th>\n",
       "      <th>id</th>\n",
       "    </tr>\n",
       "  </thead>\n",
       "  <tbody>\n",
       "    <tr>\n",
       "      <th>0</th>\n",
       "      <td>en</td>\n",
       "      <td>2022-05-21 12:04:15+00:00</td>\n",
       "      <td>RT @F1: George Russell is up to P2! 👀\\n\\nHe sp...</td>\n",
       "      <td>1527983610346844162</td>\n",
       "    </tr>\n",
       "    <tr>\n",
       "      <th>1</th>\n",
       "      <td>en</td>\n",
       "      <td>2022-05-21 12:04:15+00:00</td>\n",
       "      <td>RT @F1: Barcelona really is anybody's guess! 🍿...</td>\n",
       "      <td>1527983610053156868</td>\n",
       "    </tr>\n",
       "    <tr>\n",
       "      <th>2</th>\n",
       "      <td>en</td>\n",
       "      <td>2022-05-21 12:04:15+00:00</td>\n",
       "      <td>RT @F1: 🏁 END OF FP3 - TOP 10 🏁\\n\\n1 LEC 📸\\n2 ...</td>\n",
       "      <td>1527983609344401408</td>\n",
       "    </tr>\n",
       "    <tr>\n",
       "      <th>4</th>\n",
       "      <td>en</td>\n",
       "      <td>2022-05-21 12:04:15+00:00</td>\n",
       "      <td>RT @F1: 🏁 END OF FP3 - TOP 10 🏁\\n\\n1 LEC 📸\\n2 ...</td>\n",
       "      <td>1527983608056586240</td>\n",
       "    </tr>\n",
       "    <tr>\n",
       "      <th>7</th>\n",
       "      <td>en</td>\n",
       "      <td>2022-05-21 12:04:14+00:00</td>\n",
       "      <td>But some of the most notable action of that se...</td>\n",
       "      <td>1527983604445356033</td>\n",
       "    </tr>\n",
       "    <tr>\n",
       "      <th>...</th>\n",
       "      <td>...</td>\n",
       "      <td>...</td>\n",
       "      <td>...</td>\n",
       "      <td>...</td>\n",
       "    </tr>\n",
       "    <tr>\n",
       "      <th>91</th>\n",
       "      <td>en</td>\n",
       "      <td>2022-05-21 12:03:38+00:00</td>\n",
       "      <td>RT @F1: Mick Schumacher's brakes are feeling t...</td>\n",
       "      <td>1527983453135831042</td>\n",
       "    </tr>\n",
       "    <tr>\n",
       "      <th>92</th>\n",
       "      <td>en</td>\n",
       "      <td>2022-05-21 12:03:38+00:00</td>\n",
       "      <td>RT @F1: Mick Schumacher's brakes are feeling t...</td>\n",
       "      <td>1527983453022703620</td>\n",
       "    </tr>\n",
       "    <tr>\n",
       "      <th>93</th>\n",
       "      <td>en</td>\n",
       "      <td>2022-05-21 12:03:37+00:00</td>\n",
       "      <td>RT @ChrisMedlandF1: Ferrari explains it change...</td>\n",
       "      <td>1527983451235835907</td>\n",
       "    </tr>\n",
       "    <tr>\n",
       "      <th>95</th>\n",
       "      <td>en</td>\n",
       "      <td>2022-05-21 12:03:37+00:00</td>\n",
       "      <td>RT @AstonMartinF1: Wrapping up practice in Bar...</td>\n",
       "      <td>1527983449478467585</td>\n",
       "    </tr>\n",
       "    <tr>\n",
       "      <th>98</th>\n",
       "      <td>en</td>\n",
       "      <td>2022-05-21 12:03:35+00:00</td>\n",
       "      <td>RT @F1: 🏁 END OF FP3 - TOP 10 🏁\\n\\n1 LEC 📸\\n2 ...</td>\n",
       "      <td>1527983441299795969</td>\n",
       "    </tr>\n",
       "  </tbody>\n",
       "</table>\n",
       "<p>70 rows × 4 columns</p>\n",
       "</div>"
      ],
      "text/plain": [
       "   lang                created_at  \\\n",
       "0    en 2022-05-21 12:04:15+00:00   \n",
       "1    en 2022-05-21 12:04:15+00:00   \n",
       "2    en 2022-05-21 12:04:15+00:00   \n",
       "4    en 2022-05-21 12:04:15+00:00   \n",
       "7    en 2022-05-21 12:04:14+00:00   \n",
       "..  ...                       ...   \n",
       "91   en 2022-05-21 12:03:38+00:00   \n",
       "92   en 2022-05-21 12:03:38+00:00   \n",
       "93   en 2022-05-21 12:03:37+00:00   \n",
       "95   en 2022-05-21 12:03:37+00:00   \n",
       "98   en 2022-05-21 12:03:35+00:00   \n",
       "\n",
       "                                                 text                   id  \n",
       "0   RT @F1: George Russell is up to P2! 👀\\n\\nHe sp...  1527983610346844162  \n",
       "1   RT @F1: Barcelona really is anybody's guess! 🍿...  1527983610053156868  \n",
       "2   RT @F1: 🏁 END OF FP3 - TOP 10 🏁\\n\\n1 LEC 📸\\n2 ...  1527983609344401408  \n",
       "4   RT @F1: 🏁 END OF FP3 - TOP 10 🏁\\n\\n1 LEC 📸\\n2 ...  1527983608056586240  \n",
       "7   But some of the most notable action of that se...  1527983604445356033  \n",
       "..                                                ...                  ...  \n",
       "91  RT @F1: Mick Schumacher's brakes are feeling t...  1527983453135831042  \n",
       "92  RT @F1: Mick Schumacher's brakes are feeling t...  1527983453022703620  \n",
       "93  RT @ChrisMedlandF1: Ferrari explains it change...  1527983451235835907  \n",
       "95  RT @AstonMartinF1: Wrapping up practice in Bar...  1527983449478467585  \n",
       "98  RT @F1: 🏁 END OF FP3 - TOP 10 🏁\\n\\n1 LEC 📸\\n2 ...  1527983441299795969  \n",
       "\n",
       "[70 rows x 4 columns]"
      ]
     },
     "execution_count": 37,
     "metadata": {},
     "output_type": "execute_result"
    }
   ],
   "source": [
    "func()"
   ]
  },
  {
   "cell_type": "code",
   "execution_count": null,
   "id": "3011ade4",
   "metadata": {},
   "outputs": [],
   "source": []
  }
 ],
 "metadata": {
  "kernelspec": {
   "display_name": "Python 3 (ipykernel)",
   "language": "python",
   "name": "python3"
  },
  "language_info": {
   "codemirror_mode": {
    "name": "ipython",
    "version": 3
   },
   "file_extension": ".py",
   "mimetype": "text/x-python",
   "name": "python",
   "nbconvert_exporter": "python",
   "pygments_lexer": "ipython3",
   "version": "3.8.12"
  },
  "toc": {
   "base_numbering": 1,
   "nav_menu": {},
   "number_sections": true,
   "sideBar": true,
   "skip_h1_title": false,
   "title_cell": "Table of Contents",
   "title_sidebar": "Contents",
   "toc_cell": false,
   "toc_position": {},
   "toc_section_display": true,
   "toc_window_display": false
  }
 },
 "nbformat": 4,
 "nbformat_minor": 5
}
