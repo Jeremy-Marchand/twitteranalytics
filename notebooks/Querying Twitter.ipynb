{
 "cells": [
  {
   "cell_type": "code",
   "execution_count": 2,
   "id": "048f08be",
   "metadata": {
    "ExecuteTime": {
     "end_time": "2022-07-03T05:10:51.071135Z",
     "start_time": "2022-07-03T05:10:51.068889Z"
    }
   },
   "outputs": [],
   "source": [
    "import os"
   ]
  },
  {
   "cell_type": "markdown",
   "id": "c6a27177",
   "metadata": {},
   "source": [
    "# Query twitter API"
   ]
  },
  {
   "cell_type": "code",
   "execution_count": 11,
   "id": "f8c908a4",
   "metadata": {
    "ExecuteTime": {
     "end_time": "2022-07-03T07:28:19.670144Z",
     "start_time": "2022-07-03T07:28:19.663411Z"
    }
   },
   "outputs": [],
   "source": [
    "import os\n",
    "import requests\n",
    "# from dotenv import load_dotenv, find_dotenv\n",
    "from datetime import datetime\n",
    "import pandas as pd\n",
    "from dotenv import load_dotenv, find_dotenv\n",
    "\n",
    "\n",
    "search_url = \"https://api.twitter.com/2/tweets/search/recent\"\n",
    "# Optional params: start_time,end_time,since_id,until_id,max_results,next_token,\n",
    "# expansions,tweet.fields,media.fields,poll.fields,place.fields,user.fields\n",
    "\n",
    "def get_token():\n",
    "    env_path = os.path.join(os.path.dirname(os.getcwd()),'.env')\n",
    "    env_path = find_dotenv() # automatic find \n",
    "    load_dotenv(env_path)\n",
    "    token = os.getenv('TWITTER_BEARER_TOKEN','Key missing in env settings')\n",
    "    return token\n",
    "\n",
    "def last_date_db():\n",
    "    \"\"\"\n",
    "    Method to retrieve the last date in the DB\n",
    "    \"\"\"\n",
    "    # Construct a BigQuery client object.\n",
    "\n",
    "    query = \"\"\"\n",
    "        SELECT created_at\n",
    "        FROM `wagon-bootcamp-802.my_dataset.twitter_table`\n",
    "        ORDER BY created_at DESC\n",
    "        LIMIT 1\n",
    "    \"\"\"\n",
    "    df = pd.read_gbq(query, dialect='standard')\n",
    "    return df.iloc[0]['created_at'].tz_localize(None).isoformat()+'Z'\n",
    "\n",
    "\n",
    "def bearer_oauth(r):\n",
    "    \"\"\"\n",
    "    Method required by bearer token authentication.\n",
    "    \"\"\"\n",
    "    bearer_token = get_token()\n",
    "    r.headers[\"Authorization\"] = f\"Bearer {bearer_token}\"\n",
    "    r.headers[\"User-Agent\"] = \"v2RecentSearchPython\"\n",
    "    return r\n",
    "\n",
    "def connect_to_endpoint(url, params):\n",
    "    response = requests.get(url, auth=bearer_oauth, params=params)\n",
    "    print(response.status_code)\n",
    "    if response.status_code != 200:\n",
    "        raise Exception(response.status_code, response.text)\n",
    "    return response.json()\n",
    "\n",
    "\n",
    "def query_twitter(start_time=None):\n",
    "    query_params = {'query': '#F1','tweet.fields':'created_at,lang', 'start_time':start_time, 'max_results' : '100'}\n",
    "    json_response = connect_to_endpoint(search_url, query_params)\n",
    "    return json_response\n",
    "\n",
    "def func():\n",
    "    '''\n",
    "    Pushing results to GBQ\n",
    "    '''\n",
    "    most_recent_dt = last_date_db()\n",
    "    df = pd.DataFrame(query_twitter(most_recent_dt)['data']).iloc[:-1]\n",
    "    df = df[df['lang'] == 'en']\n",
    "    df['created_at'] = pd.to_datetime(df['created_at'])\n",
    "    table_id = 'wagon-bootcamp-802.my_dataset.new_table'\n",
    "    df.to_gbq(table_id, if_exists='append')\n",
    "    print('Done')\n",
    "    return df"
   ]
  },
  {
   "cell_type": "code",
   "execution_count": 12,
   "id": "6018966e",
   "metadata": {
    "ExecuteTime": {
     "end_time": "2022-07-03T07:28:27.190205Z",
     "start_time": "2022-07-03T07:28:21.814190Z"
    }
   },
   "outputs": [
    {
     "name": "stderr",
     "output_type": "stream",
     "text": [
      "/home/jeremymarchand/.pyenv/versions/3.8.12/envs/lewagon/lib/python3.8/site-packages/google/cloud/bigquery/table.py:2009: FutureWarning: Using .astype to convert from timezone-aware dtype to timezone-naive dtype is deprecated and will raise in a future version.  Use obj.tz_localize(None) or obj.tz_convert('UTC').tz_localize(None) instead\n",
      "  df[column] = pandas.Series(df[column], dtype=dtypes[column])\n"
     ]
    },
    {
     "name": "stdout",
     "output_type": "stream",
     "text": [
      "200\n"
     ]
    },
    {
     "name": "stderr",
     "output_type": "stream",
     "text": [
      "100%|██████████████████████████████████████████████████████████████████████████████████████████████████████████████████████| 1/1 [00:00<00:00, 11275.01it/s]"
     ]
    },
    {
     "name": "stdout",
     "output_type": "stream",
     "text": [
      "Done\n"
     ]
    },
    {
     "name": "stderr",
     "output_type": "stream",
     "text": [
      "\n"
     ]
    },
    {
     "data": {
      "text/html": [
       "<div>\n",
       "<style scoped>\n",
       "    .dataframe tbody tr th:only-of-type {\n",
       "        vertical-align: middle;\n",
       "    }\n",
       "\n",
       "    .dataframe tbody tr th {\n",
       "        vertical-align: top;\n",
       "    }\n",
       "\n",
       "    .dataframe thead th {\n",
       "        text-align: right;\n",
       "    }\n",
       "</style>\n",
       "<table border=\"1\" class=\"dataframe\">\n",
       "  <thead>\n",
       "    <tr style=\"text-align: right;\">\n",
       "      <th></th>\n",
       "      <th>text</th>\n",
       "      <th>created_at</th>\n",
       "      <th>id</th>\n",
       "      <th>lang</th>\n",
       "    </tr>\n",
       "  </thead>\n",
       "  <tbody>\n",
       "    <tr>\n",
       "      <th>0</th>\n",
       "      <td>RT @Motorsport: With Carlos Sainz starting fro...</td>\n",
       "      <td>2022-07-03 07:28:09+00:00</td>\n",
       "      <td>1543496803856908291</td>\n",
       "      <td>en</td>\n",
       "    </tr>\n",
       "    <tr>\n",
       "      <th>1</th>\n",
       "      <td>RT @F1: Just the Medical Car doing a side whee...</td>\n",
       "      <td>2022-07-03 07:28:03+00:00</td>\n",
       "      <td>1543496778892337152</td>\n",
       "      <td>en</td>\n",
       "    </tr>\n",
       "    <tr>\n",
       "      <th>2</th>\n",
       "      <td>RT @F1: That smile will be a bit bigger today!...</td>\n",
       "      <td>2022-07-03 07:28:02+00:00</td>\n",
       "      <td>1543496776010924035</td>\n",
       "      <td>en</td>\n",
       "    </tr>\n",
       "    <tr>\n",
       "      <th>3</th>\n",
       "      <td>RT @F1MikaHakkinen: Red pill or blue pill? #f1...</td>\n",
       "      <td>2022-07-03 07:27:58+00:00</td>\n",
       "      <td>1543496757203685377</td>\n",
       "      <td>en</td>\n",
       "    </tr>\n",
       "  </tbody>\n",
       "</table>\n",
       "</div>"
      ],
      "text/plain": [
       "                                                text  \\\n",
       "0  RT @Motorsport: With Carlos Sainz starting fro...   \n",
       "1  RT @F1: Just the Medical Car doing a side whee...   \n",
       "2  RT @F1: That smile will be a bit bigger today!...   \n",
       "3  RT @F1MikaHakkinen: Red pill or blue pill? #f1...   \n",
       "\n",
       "                 created_at                   id lang  \n",
       "0 2022-07-03 07:28:09+00:00  1543496803856908291   en  \n",
       "1 2022-07-03 07:28:03+00:00  1543496778892337152   en  \n",
       "2 2022-07-03 07:28:02+00:00  1543496776010924035   en  \n",
       "3 2022-07-03 07:27:58+00:00  1543496757203685377   en  "
      ]
     },
     "execution_count": 12,
     "metadata": {},
     "output_type": "execute_result"
    }
   ],
   "source": [
    "func()"
   ]
  },
  {
   "cell_type": "code",
   "execution_count": 9,
   "id": "3011ade4",
   "metadata": {
    "ExecuteTime": {
     "end_time": "2022-07-03T05:13:32.419562Z",
     "start_time": "2022-07-03T05:13:31.554264Z"
    }
   },
   "outputs": [
    {
     "name": "stderr",
     "output_type": "stream",
     "text": [
      "/home/jeremymarchand/.pyenv/versions/3.8.12/envs/lewagon/lib/python3.8/site-packages/google/cloud/bigquery/table.py:2009: FutureWarning: Using .astype to convert from timezone-aware dtype to timezone-naive dtype is deprecated and will raise in a future version.  Use obj.tz_localize(None) or obj.tz_convert('UTC').tz_localize(None) instead\n",
      "  df[column] = pandas.Series(df[column], dtype=dtypes[column])\n"
     ]
    },
    {
     "name": "stdout",
     "output_type": "stream",
     "text": [
      "200\n"
     ]
    }
   ],
   "source": [
    "most_recent_dt = last_date_db()\n",
    "df = pd.DataFrame(query_twitter(most_recent_dt)['data']).iloc[:-1]\n",
    "df = df[df['lang'] == 'en']\n",
    "df['created_at'] = pd.to_datetime(df['created_at'])"
   ]
  },
  {
   "cell_type": "code",
   "execution_count": 10,
   "id": "f69fb6d0",
   "metadata": {
    "ExecuteTime": {
     "end_time": "2022-07-03T05:13:33.815337Z",
     "start_time": "2022-07-03T05:13:33.807359Z"
    }
   },
   "outputs": [
    {
     "data": {
      "text/html": [
       "<div>\n",
       "<style scoped>\n",
       "    .dataframe tbody tr th:only-of-type {\n",
       "        vertical-align: middle;\n",
       "    }\n",
       "\n",
       "    .dataframe tbody tr th {\n",
       "        vertical-align: top;\n",
       "    }\n",
       "\n",
       "    .dataframe thead th {\n",
       "        text-align: right;\n",
       "    }\n",
       "</style>\n",
       "<table border=\"1\" class=\"dataframe\">\n",
       "  <thead>\n",
       "    <tr style=\"text-align: right;\">\n",
       "      <th></th>\n",
       "      <th>created_at</th>\n",
       "      <th>text</th>\n",
       "      <th>id</th>\n",
       "      <th>lang</th>\n",
       "    </tr>\n",
       "  </thead>\n",
       "  <tbody>\n",
       "    <tr>\n",
       "      <th>0</th>\n",
       "      <td>2022-07-03 05:13:18+00:00</td>\n",
       "      <td>#HTWknd | Meet @DaruvalaJehan, India’s only co...</td>\n",
       "      <td>1543462866745163777</td>\n",
       "      <td>en</td>\n",
       "    </tr>\n",
       "    <tr>\n",
       "      <th>2</th>\n",
       "      <td>2022-07-03 05:13:01+00:00</td>\n",
       "      <td>RT @F1: The last time a Spaniard took pole in ...</td>\n",
       "      <td>1543462794695266305</td>\n",
       "      <td>en</td>\n",
       "    </tr>\n",
       "    <tr>\n",
       "      <th>4</th>\n",
       "      <td>2022-07-03 05:12:58+00:00</td>\n",
       "      <td>RT @F1: Just the Medical Car doing a side whee...</td>\n",
       "      <td>1543462786025521152</td>\n",
       "      <td>en</td>\n",
       "    </tr>\n",
       "    <tr>\n",
       "      <th>5</th>\n",
       "      <td>2022-07-03 05:12:28+00:00</td>\n",
       "      <td>RT @VinuSquad: Who is waiting for $VINU to be ...</td>\n",
       "      <td>1543462658099363841</td>\n",
       "      <td>en</td>\n",
       "    </tr>\n",
       "    <tr>\n",
       "      <th>8</th>\n",
       "      <td>2022-07-03 05:12:21+00:00</td>\n",
       "      <td>RT @redbullracing: A new tyre-warming techniqu...</td>\n",
       "      <td>1543462629364174848</td>\n",
       "      <td>en</td>\n",
       "    </tr>\n",
       "    <tr>\n",
       "      <th>9</th>\n",
       "      <td>2022-07-03 05:12:21+00:00</td>\n",
       "      <td>RT @redbullracing: A new tyre-warming techniqu...</td>\n",
       "      <td>1543462626713374720</td>\n",
       "      <td>en</td>\n",
       "    </tr>\n",
       "    <tr>\n",
       "      <th>10</th>\n",
       "      <td>2022-07-03 05:12:20+00:00</td>\n",
       "      <td>RT @F1: Here's how they line up at Silverstone...</td>\n",
       "      <td>1543462625274642432</td>\n",
       "      <td>en</td>\n",
       "    </tr>\n",
       "    <tr>\n",
       "      <th>11</th>\n",
       "      <td>2022-07-03 05:12:14+00:00</td>\n",
       "      <td>RT @Motorsport: Sainz is now the 2️⃣nd Spanish...</td>\n",
       "      <td>1543462601379565570</td>\n",
       "      <td>en</td>\n",
       "    </tr>\n",
       "    <tr>\n",
       "      <th>12</th>\n",
       "      <td>2022-07-03 05:12:14+00:00</td>\n",
       "      <td>RT @JuliaF1fan: @prudydear Is this where we’re...</td>\n",
       "      <td>1543462599521607680</td>\n",
       "      <td>en</td>\n",
       "    </tr>\n",
       "    <tr>\n",
       "      <th>13</th>\n",
       "      <td>2022-07-03 05:12:05+00:00</td>\n",
       "      <td>ITS RACE DAY!! \\n#BritishGP #F1 #F2 #F3</td>\n",
       "      <td>1543462560481087488</td>\n",
       "      <td>en</td>\n",
       "    </tr>\n",
       "    <tr>\n",
       "      <th>14</th>\n",
       "      <td>2022-07-03 05:11:56+00:00</td>\n",
       "      <td>RT @F1: IT’S A FIRST POLE FOR CARLOS SAINZ!!! ...</td>\n",
       "      <td>1543462523089092608</td>\n",
       "      <td>en</td>\n",
       "    </tr>\n",
       "  </tbody>\n",
       "</table>\n",
       "</div>"
      ],
      "text/plain": [
       "                  created_at  \\\n",
       "0  2022-07-03 05:13:18+00:00   \n",
       "2  2022-07-03 05:13:01+00:00   \n",
       "4  2022-07-03 05:12:58+00:00   \n",
       "5  2022-07-03 05:12:28+00:00   \n",
       "8  2022-07-03 05:12:21+00:00   \n",
       "9  2022-07-03 05:12:21+00:00   \n",
       "10 2022-07-03 05:12:20+00:00   \n",
       "11 2022-07-03 05:12:14+00:00   \n",
       "12 2022-07-03 05:12:14+00:00   \n",
       "13 2022-07-03 05:12:05+00:00   \n",
       "14 2022-07-03 05:11:56+00:00   \n",
       "\n",
       "                                                 text                   id  \\\n",
       "0   #HTWknd | Meet @DaruvalaJehan, India’s only co...  1543462866745163777   \n",
       "2   RT @F1: The last time a Spaniard took pole in ...  1543462794695266305   \n",
       "4   RT @F1: Just the Medical Car doing a side whee...  1543462786025521152   \n",
       "5   RT @VinuSquad: Who is waiting for $VINU to be ...  1543462658099363841   \n",
       "8   RT @redbullracing: A new tyre-warming techniqu...  1543462629364174848   \n",
       "9   RT @redbullracing: A new tyre-warming techniqu...  1543462626713374720   \n",
       "10  RT @F1: Here's how they line up at Silverstone...  1543462625274642432   \n",
       "11  RT @Motorsport: Sainz is now the 2️⃣nd Spanish...  1543462601379565570   \n",
       "12  RT @JuliaF1fan: @prudydear Is this where we’re...  1543462599521607680   \n",
       "13            ITS RACE DAY!! \\n#BritishGP #F1 #F2 #F3  1543462560481087488   \n",
       "14  RT @F1: IT’S A FIRST POLE FOR CARLOS SAINZ!!! ...  1543462523089092608   \n",
       "\n",
       "   lang  \n",
       "0    en  \n",
       "2    en  \n",
       "4    en  \n",
       "5    en  \n",
       "8    en  \n",
       "9    en  \n",
       "10   en  \n",
       "11   en  \n",
       "12   en  \n",
       "13   en  \n",
       "14   en  "
      ]
     },
     "execution_count": 10,
     "metadata": {},
     "output_type": "execute_result"
    }
   ],
   "source": [
    "df"
   ]
  },
  {
   "cell_type": "code",
   "execution_count": null,
   "id": "5905d648",
   "metadata": {},
   "outputs": [],
   "source": []
  }
 ],
 "metadata": {
  "kernelspec": {
   "display_name": "Python 3 (ipykernel)",
   "language": "python",
   "name": "python3"
  },
  "language_info": {
   "codemirror_mode": {
    "name": "ipython",
    "version": 3
   },
   "file_extension": ".py",
   "mimetype": "text/x-python",
   "name": "python",
   "nbconvert_exporter": "python",
   "pygments_lexer": "ipython3",
   "version": "3.8.12"
  },
  "toc": {
   "base_numbering": 1,
   "nav_menu": {},
   "number_sections": true,
   "sideBar": true,
   "skip_h1_title": false,
   "title_cell": "Table of Contents",
   "title_sidebar": "Contents",
   "toc_cell": false,
   "toc_position": {},
   "toc_section_display": true,
   "toc_window_display": false
  }
 },
 "nbformat": 4,
 "nbformat_minor": 5
}
