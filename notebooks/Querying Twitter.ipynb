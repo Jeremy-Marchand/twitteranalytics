{
 "cells": [
  {
   "cell_type": "code",
   "execution_count": 2,
   "id": "048f08be",
   "metadata": {
    "ExecuteTime": {
     "end_time": "2022-07-03T05:10:51.071135Z",
     "start_time": "2022-07-03T05:10:51.068889Z"
    }
   },
   "outputs": [],
   "source": [
    "import os"
   ]
  },
  {
   "cell_type": "markdown",
   "id": "c6a27177",
   "metadata": {},
   "source": [
    "# Query twitter API"
   ]
  },
  {
   "cell_type": "code",
   "execution_count": 67,
   "id": "f8c908a4",
   "metadata": {
    "ExecuteTime": {
     "end_time": "2022-07-03T13:56:45.747621Z",
     "start_time": "2022-07-03T13:56:45.738080Z"
    }
   },
   "outputs": [],
   "source": [
    "import os\n",
    "import requests\n",
    "# from dotenv import load_dotenv, find_dotenv\n",
    "from datetime import datetime\n",
    "import pandas as pd\n",
    "from dotenv import load_dotenv, find_dotenv\n",
    "\n",
    "\n",
    "search_url = \"https://api.twitter.com/2/tweets/search/recent\"\n",
    "# Optional params: start_time,end_time,since_id,until_id,max_results,next_token,\n",
    "# expansions,tweet.fields,media.fields,poll.fields,place.fields,user.fields\n",
    "\n",
    "def get_token():\n",
    "    env_path = os.path.join(os.path.dirname(os.getcwd()),'.env')\n",
    "    env_path = find_dotenv() # automatic find \n",
    "    load_dotenv(env_path)\n",
    "    token = os.getenv('TWITTER_BEARER_TOKEN','Key missing in env settings')\n",
    "    return token\n",
    "\n",
    "def last_date_db():\n",
    "    \"\"\"\n",
    "    Method to retrieve the last date in the DB\n",
    "    \"\"\"\n",
    "    # Construct a BigQuery client object.\n",
    "\n",
    "    query = \"\"\"\n",
    "        SELECT created_at\n",
    "        FROM `wagon-bootcamp-802.my_dataset.new_table`\n",
    "        ORDER BY created_at DESC\n",
    "        LIMIT 1\n",
    "    \"\"\"\n",
    "    df = pd.read_gbq(query, dialect='standard')\n",
    "    return df.iloc[0]['created_at'].tz_localize(None).isoformat()+'Z'\n",
    "\n",
    "\n",
    "def bearer_oauth(r):\n",
    "    \"\"\"\n",
    "    Method required by bearer token authentication.\n",
    "    \"\"\"\n",
    "    bearer_token = get_token()\n",
    "    r.headers[\"Authorization\"] = f\"Bearer {bearer_token}\"\n",
    "    r.headers[\"User-Agent\"] = \"v2RecentSearchPython\"\n",
    "    return r\n",
    "\n",
    "def connect_to_endpoint(url, params):\n",
    "    response = requests.get(url, auth=bearer_oauth, params=params)\n",
    "    print(response.status_code)\n",
    "    if response.status_code != 200:\n",
    "        raise Exception(response.status_code, response.text)\n",
    "    return response.json()\n",
    "\n",
    "\n",
    "def query_twitter(start_time=None, next_token=None):\n",
    "    query_params = {'query': '#F1',\n",
    "                    'tweet.fields':'created_at,lang',\n",
    "                    'start_time':start_time,\n",
    "                    'max_results' : '100',\n",
    "                    'next_token': next_token\n",
    "                   }\n",
    "    json_response = connect_to_endpoint(search_url, query_params)\n",
    "    return json_response\n",
    "\n",
    "\n",
    "def main():\n",
    "    '''\n",
    "    Pushing results to GBQ\n",
    "    '''\n",
    "    most_recent_dt = last_date_db()\n",
    "    response = query_twitter(most_recent_dt)\n",
    "    data = pd.DataFrame()\n",
    "    while response['meta'].get('next_token',False):\n",
    "        df = pd.DataFrame(response['data'])[['text', 'created_at', 'id', 'lang']]\n",
    "        df = df[df['lang'] == 'en']\n",
    "        df['created_at'] = pd.to_datetime(df['created_at'])\n",
    "        data = data.append(df, ignore_index=True)\n",
    "        response = query_twitter(most_recent_dt,response['meta'].get('next_token',False))\n",
    "    df = pd.DataFrame(response['data'])[['text', 'created_at', 'id', 'lang']].iloc[:-1]\n",
    "    df = df[df['lang'] == 'en']\n",
    "    df['created_at'] = pd.to_datetime(df['created_at'])\n",
    "    data = data.append(df, ignore_index=True)\n",
    "#     table_id = 'wagon-bootcamp-802.my_dataset.new_table'\n",
    "#     data.to_gbq(table_id, if_exists='append')\n",
    "    return df"
   ]
  },
  {
   "cell_type": "code",
   "execution_count": null,
   "id": "5905d648",
   "metadata": {},
   "outputs": [],
   "source": []
  }
 ],
 "metadata": {
  "kernelspec": {
   "display_name": "Python 3 (ipykernel)",
   "language": "python",
   "name": "python3"
  },
  "language_info": {
   "codemirror_mode": {
    "name": "ipython",
    "version": 3
   },
   "file_extension": ".py",
   "mimetype": "text/x-python",
   "name": "python",
   "nbconvert_exporter": "python",
   "pygments_lexer": "ipython3",
   "version": "3.8.12"
  },
  "toc": {
   "base_numbering": 1,
   "nav_menu": {},
   "number_sections": true,
   "sideBar": true,
   "skip_h1_title": false,
   "title_cell": "Table of Contents",
   "title_sidebar": "Contents",
   "toc_cell": false,
   "toc_position": {},
   "toc_section_display": true,
   "toc_window_display": false
  }
 },
 "nbformat": 4,
 "nbformat_minor": 5
}
