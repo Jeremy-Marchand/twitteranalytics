{
 "cells": [
  {
   "cell_type": "markdown",
   "id": "c6a27177",
   "metadata": {},
   "source": [
    "# Query twitter API"
   ]
  },
  {
   "cell_type": "code",
   "execution_count": 12,
   "id": "f8c908a4",
   "metadata": {
    "ExecuteTime": {
     "end_time": "2022-07-06T14:21:55.915151Z",
     "start_time": "2022-07-06T14:21:55.892221Z"
    }
   },
   "outputs": [],
   "source": [
    "import os\n",
    "import requests\n",
    "# from dotenv import load_dotenv, find_dotenv\n",
    "from datetime import datetime\n",
    "import pandas as pd\n",
    "from dotenv import load_dotenv, find_dotenv\n",
    "\n",
    "\n",
    "search_url = \"https://api.twitter.com/2/tweets/search/recent\"\n",
    "# Optional params: start_time,end_time,since_id,until_id,max_results,next_token,\n",
    "# expansions,tweet.fields,media.fields,poll.fields,place.fields,user.fields\n",
    "\n",
    "def get_token():\n",
    "    env_path = os.path.join(os.path.dirname(os.getcwd()),'.env')\n",
    "    env_path = find_dotenv() # automatic find \n",
    "    load_dotenv(env_path)\n",
    "    token = os.getenv('TWITTER_BEARER_TOKEN','Key missing in env settings')\n",
    "    return token\n",
    "\n",
    "def last_date_db():\n",
    "    \"\"\"\n",
    "    Method to retrieve the last date in the DB\n",
    "    \"\"\"\n",
    "    # Construct a BigQuery client object.\n",
    "\n",
    "    query = \"\"\"\n",
    "        SELECT created_at\n",
    "        FROM `wagon-bootcamp-802.my_dataset.new_table`\n",
    "        ORDER BY created_at DESC\n",
    "        LIMIT 1\n",
    "    \"\"\"\n",
    "    df = pd.read_gbq(query, dialect='standard')\n",
    "    return df.iloc[0]['created_at'].tz_localize(None).isoformat()+'Z'\n",
    "\n",
    "\n",
    "def bearer_oauth(r):\n",
    "    \"\"\"\n",
    "    Method required by bearer token authentication.\n",
    "    \"\"\"\n",
    "    bearer_token = get_token()\n",
    "    r.headers[\"Authorization\"] = f\"Bearer {bearer_token}\"\n",
    "    r.headers[\"User-Agent\"] = \"v2RecentSearchPython\"\n",
    "    return r\n",
    "\n",
    "def connect_to_endpoint(url, params):\n",
    "    response = requests.get(url, auth=bearer_oauth, params=params)\n",
    "    print(response.status_code)\n",
    "    if response.status_code != 200:\n",
    "        raise Exception(response.status_code, response.text)\n",
    "    return response.json()\n",
    "\n",
    "\n",
    "def query_twitter(start_time=None, next_token=None):\n",
    "    query_params = {'query': '#F1',\n",
    "                    'tweet.fields':'created_at,lang',\n",
    "                    'start_time':start_time,\n",
    "                    'max_results' : '100',\n",
    "                    'next_token': next_token\n",
    "                   }\n",
    "    json_response = connect_to_endpoint(search_url, query_params)\n",
    "    return json_response\n",
    "\n",
    "\n",
    "def fetching_tweets(response):\n",
    "    if response['meta'].get('next_token',False):\n",
    "        df = pd.DataFrame(response['data'])[['text', 'created_at', 'id', 'lang']]\n",
    "    else:\n",
    "        df = pd.DataFrame(response['data'])[['text', 'created_at', 'id', 'lang']].iloc[:-1]\n",
    "    df = df[df['lang'] == 'en']\n",
    "    df['created_at'] = pd.to_datetime(df['created_at'])\n",
    "    return df\n",
    "\n",
    "def main():\n",
    "    '''\n",
    "    Pushing results to GBQ\n",
    "    '''\n",
    "    most_recent_dt = last_date_db()\n",
    "    response = query_twitter(most_recent_dt)\n",
    "    data = pd.DataFrame()\n",
    "    while response['meta'].get('next_token',False):\n",
    "        data = data.append(fetching_tweets(response), ignore_index=True)\n",
    "        response = query_twitter(most_recent_dt,response['meta'].get('next_token',False))\n",
    "    data = data.append(fetching_tweets(response), ignore_index=True)\n",
    "#     table_id = 'wagon-bootcamp-802.my_dataset.twitter_table'\n",
    "#     data.to_gbq(table_id, if_exists='append')\n",
    "    return data"
   ]
  },
  {
   "cell_type": "code",
   "execution_count": 23,
   "id": "2bf09dc0",
   "metadata": {
    "ExecuteTime": {
     "end_time": "2022-07-06T14:31:36.844738Z",
     "start_time": "2022-07-06T14:31:36.834856Z"
    }
   },
   "outputs": [
    {
     "data": {
      "text/html": [
       "<div>\n",
       "<style scoped>\n",
       "    .dataframe tbody tr th:only-of-type {\n",
       "        vertical-align: middle;\n",
       "    }\n",
       "\n",
       "    .dataframe tbody tr th {\n",
       "        vertical-align: top;\n",
       "    }\n",
       "\n",
       "    .dataframe thead th {\n",
       "        text-align: right;\n",
       "    }\n",
       "</style>\n",
       "<table border=\"1\" class=\"dataframe\">\n",
       "  <thead>\n",
       "    <tr style=\"text-align: right;\">\n",
       "      <th></th>\n",
       "      <th>text</th>\n",
       "      <th>created_at</th>\n",
       "      <th>id</th>\n",
       "      <th>lang</th>\n",
       "    </tr>\n",
       "  </thead>\n",
       "  <tbody>\n",
       "  </tbody>\n",
       "</table>\n",
       "</div>"
      ],
      "text/plain": [
       "Empty DataFrame\n",
       "Columns: [text, created_at, id, lang]\n",
       "Index: []"
      ]
     },
     "execution_count": 23,
     "metadata": {},
     "output_type": "execute_result"
    }
   ],
   "source": [
    "fetching_tweets({'data': [{\n",
    "                'lang': 'en',\n",
    "                'created_at': '2022-07-06T13:53:07.000Z',\n",
    "                'id': '1544680846883528706',\n",
    "                'text': '“This weekend won’t be smooth sailing” says Championship Leader Max Verstappen #Formula1 #F1 #F1News #Motorsport https://t.co/ncnzaoqvcd'\n",
    "                    }],\n",
    "            'meta': {'newest_id': '1544680846883528706',\n",
    "                'oldest_id': '1544679599849623552',\n",
    "                'result_count': 100\n",
    "                    }\n",
    "            })"
   ]
  },
  {
   "cell_type": "code",
   "execution_count": 20,
   "id": "6dabd154",
   "metadata": {
    "ExecuteTime": {
     "end_time": "2022-07-06T14:27:12.491224Z",
     "start_time": "2022-07-06T14:27:12.445351Z"
    }
   },
   "outputs": [
    {
     "ename": "AssertionError",
     "evalue": "",
     "output_type": "error",
     "traceback": [
      "\u001b[1;31m---------------------------------------------------------------------------\u001b[0m",
      "\u001b[1;31mAssertionError\u001b[0m                            Traceback (most recent call last)",
      "Input \u001b[1;32mIn [20]\u001b[0m, in \u001b[0;36m<cell line: 8>\u001b[1;34m()\u001b[0m\n\u001b[0;32m      8\u001b[0m \u001b[38;5;28;01mtry\u001b[39;00m:\n\u001b[1;32m----> 9\u001b[0m     \u001b[43mpd\u001b[49m\u001b[38;5;241;43m.\u001b[39;49m\u001b[43mtesting\u001b[49m\u001b[38;5;241;43m.\u001b[39;49m\u001b[43massert_frame_equal\u001b[49m\u001b[43m(\u001b[49m\u001b[43mdf_test_from_json\u001b[49m\u001b[43m,\u001b[49m\u001b[43mdf_test_comparison\u001b[49m\u001b[43m)\u001b[49m\n\u001b[0;32m     10\u001b[0m \u001b[38;5;28;01mexcept\u001b[39;00m:\n",
      "    \u001b[1;31m[... skipping hidden 2 frame]\u001b[0m\n",
      "File \u001b[1;32m~\\AppData\\Local\\Programs\\Python\\Python39\\lib\\site-packages\\pandas\\_libs\\testing.pyx:52\u001b[0m, in \u001b[0;36mpandas._libs.testing.assert_almost_equal\u001b[1;34m()\u001b[0m\n",
      "File \u001b[1;32m~\\AppData\\Local\\Programs\\Python\\Python39\\lib\\site-packages\\pandas\\_libs\\testing.pyx:167\u001b[0m, in \u001b[0;36mpandas._libs.testing.assert_almost_equal\u001b[1;34m()\u001b[0m\n",
      "File \u001b[1;32m~\\AppData\\Local\\Programs\\Python\\Python39\\lib\\site-packages\\pandas\\_testing\\asserters.py:682\u001b[0m, in \u001b[0;36mraise_assert_detail\u001b[1;34m(obj, message, left, right, diff, index_values)\u001b[0m\n\u001b[0;32m    680\u001b[0m     msg \u001b[38;5;241m+\u001b[39m\u001b[38;5;241m=\u001b[39m \u001b[38;5;124mf\u001b[39m\u001b[38;5;124m\"\u001b[39m\u001b[38;5;130;01m\\n\u001b[39;00m\u001b[38;5;124m[diff]: \u001b[39m\u001b[38;5;132;01m{\u001b[39;00mdiff\u001b[38;5;132;01m}\u001b[39;00m\u001b[38;5;124m\"\u001b[39m\n\u001b[1;32m--> 682\u001b[0m \u001b[38;5;28;01mraise\u001b[39;00m \u001b[38;5;167;01mAssertionError\u001b[39;00m(msg)\n",
      "\u001b[1;31mAssertionError\u001b[0m: DataFrame.columns are different\n\nDataFrame.columns values are different (25.0 %)\n[left]:  Index(['text', 'created_at', 'id', 'lang'], dtype='object')\n[right]: Index(['la', 'created_at', 'id', 'lang'], dtype='object')",
      "\nDuring handling of the above exception, another exception occurred:\n",
      "\u001b[1;31mAssertionError\u001b[0m                            Traceback (most recent call last)",
      "Input \u001b[1;32mIn [20]\u001b[0m, in \u001b[0;36m<cell line: 8>\u001b[1;34m()\u001b[0m\n\u001b[0;32m      9\u001b[0m     pd\u001b[38;5;241m.\u001b[39mtesting\u001b[38;5;241m.\u001b[39massert_frame_equal(df_test_from_json,df_test_comparison)\n\u001b[0;32m     10\u001b[0m \u001b[38;5;28;01mexcept\u001b[39;00m:\n\u001b[1;32m---> 11\u001b[0m     \u001b[38;5;28;01mraise\u001b[39;00m \u001b[38;5;167;01mAssertionError\u001b[39;00m\n\u001b[0;32m     12\u001b[0m \u001b[38;5;28;01massert\u001b[39;00m \u001b[38;5;28;01mTrue\u001b[39;00m\n",
      "\u001b[1;31mAssertionError\u001b[0m: "
     ]
    }
   ],
   "source": [
    "df_test_comparison = pd.DataFrame({\n",
    "                'la': '“This weekend won’t be smooth sailing” says Championship Leader Max Verstappen #Formula1 #F1 #F1News #Motorsport https://t.co/ncnzaoqvcd',\n",
    "                'created_at': '2022-07-06T13:53:07.000Z',\n",
    "                'id': '1544680846883528706',\n",
    "                'lang': 'en'\n",
    "                    },index = [0])\n",
    "df_test_comparison['created_at'] = pd.to_datetime(df_test_comparison['created_at'])\n",
    "try:\n",
    "    pd.testing.assert_frame_equal(df_test_from_json,df_test_comparison)\n",
    "except:\n",
    "    assert False\n",
    "assert True"
   ]
  },
  {
   "cell_type": "code",
   "execution_count": 24,
   "id": "f2520480",
   "metadata": {
    "ExecuteTime": {
     "end_time": "2022-07-06T14:51:09.281694Z",
     "start_time": "2022-07-06T14:51:09.266067Z"
    }
   },
   "outputs": [
    {
     "data": {
      "text/html": [
       "<div>\n",
       "<style scoped>\n",
       "    .dataframe tbody tr th:only-of-type {\n",
       "        vertical-align: middle;\n",
       "    }\n",
       "\n",
       "    .dataframe tbody tr th {\n",
       "        vertical-align: top;\n",
       "    }\n",
       "\n",
       "    .dataframe thead th {\n",
       "        text-align: right;\n",
       "    }\n",
       "</style>\n",
       "<table border=\"1\" class=\"dataframe\">\n",
       "  <thead>\n",
       "    <tr style=\"text-align: right;\">\n",
       "      <th></th>\n",
       "      <th>text</th>\n",
       "      <th>created_at</th>\n",
       "      <th>id</th>\n",
       "      <th>lang</th>\n",
       "    </tr>\n",
       "  </thead>\n",
       "  <tbody>\n",
       "  </tbody>\n",
       "</table>\n",
       "</div>"
      ],
      "text/plain": [
       "Empty DataFrame\n",
       "Columns: [text, created_at, id, lang]\n",
       "Index: []"
      ]
     },
     "execution_count": 24,
     "metadata": {},
     "output_type": "execute_result"
    }
   ],
   "source": [
    "pd.DataFrame({\n",
    "                'text': [],\n",
    "                'created_at': [],\n",
    "                'id': [],\n",
    "                'lang': [] \n",
    "                    },index = [])"
   ]
  },
  {
   "cell_type": "code",
   "execution_count": null,
   "id": "d519d4be",
   "metadata": {},
   "outputs": [],
   "source": []
  }
 ],
 "metadata": {
  "kernelspec": {
   "display_name": "venv",
   "language": "python",
   "name": "venv"
  },
  "language_info": {
   "codemirror_mode": {
    "name": "ipython",
    "version": 3
   },
   "file_extension": ".py",
   "mimetype": "text/x-python",
   "name": "python",
   "nbconvert_exporter": "python",
   "pygments_lexer": "ipython3",
   "version": "3.9.11"
  },
  "toc": {
   "base_numbering": 1,
   "nav_menu": {},
   "number_sections": true,
   "sideBar": true,
   "skip_h1_title": false,
   "title_cell": "Table of Contents",
   "title_sidebar": "Contents",
   "toc_cell": false,
   "toc_position": {},
   "toc_section_display": true,
   "toc_window_display": false
  }
 },
 "nbformat": 4,
 "nbformat_minor": 5
}
