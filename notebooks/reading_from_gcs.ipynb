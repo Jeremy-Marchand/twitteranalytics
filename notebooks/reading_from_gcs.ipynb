{
 "cells": [
  {
   "cell_type": "code",
   "execution_count": 89,
   "id": "c08c3179",
   "metadata": {
    "ExecuteTime": {
     "end_time": "2022-07-19T10:11:35.710068Z",
     "start_time": "2022-07-19T10:11:35.699931Z"
    }
   },
   "outputs": [],
   "source": [
    "import pandas as pd\n",
    "import numpy as np\n",
    "import gcsfs\n",
    "import subprocess"
   ]
  },
  {
   "cell_type": "code",
   "execution_count": 94,
   "id": "1be9cf0e",
   "metadata": {
    "ExecuteTime": {
     "end_time": "2022-07-19T10:14:05.945379Z",
     "start_time": "2022-07-19T10:13:58.766828Z"
    }
   },
   "outputs": [],
   "source": [
    "list_files = subprocess.run([\"gsutil\", \"ls\", \"-l\", \"gs://wagon-data-802-marchand/twitter_data/\"], stdout=subprocess.PIPE, text=True, check=True)\n",
    "array_of_files = np.array([file.strip().split() for file in list_files.stdout.split('\\n')[:-2]])\n",
    "last_file = array_of_files[array_of_files[:, 1].argsort()][-1,2]\n",
    "\n",
    "\n",
    "fs = gcsfs.GCSFileSystem(project='wagon-bootcamp-802')\n",
    "with fs.open(last_file) as f:\n",
    "    df = pd.read_csv(f)"
   ]
  },
  {
   "cell_type": "code",
   "execution_count": null,
   "id": "348a823d",
   "metadata": {},
   "outputs": [],
   "source": []
  }
 ],
 "metadata": {
  "kernelspec": {
   "display_name": "venv",
   "language": "python",
   "name": "venv"
  },
  "language_info": {
   "codemirror_mode": {
    "name": "ipython",
    "version": 3
   },
   "file_extension": ".py",
   "mimetype": "text/x-python",
   "name": "python",
   "nbconvert_exporter": "python",
   "pygments_lexer": "ipython3",
   "version": "3.9.9"
  },
  "toc": {
   "base_numbering": 1,
   "nav_menu": {},
   "number_sections": true,
   "sideBar": true,
   "skip_h1_title": false,
   "title_cell": "Table of Contents",
   "title_sidebar": "Contents",
   "toc_cell": false,
   "toc_position": {},
   "toc_section_display": true,
   "toc_window_display": false
  }
 },
 "nbformat": 4,
 "nbformat_minor": 5
}
