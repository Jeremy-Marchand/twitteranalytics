{
 "cells": [
  {
   "cell_type": "code",
   "execution_count": 1,
   "id": "c08c3179",
   "metadata": {
    "ExecuteTime": {
     "end_time": "2022-07-26T07:02:22.036397Z",
     "start_time": "2022-07-26T07:02:21.414811Z"
    }
   },
   "outputs": [],
   "source": [
    "import pandas as pd\n",
    "import numpy as np\n",
    "import gcsfs\n",
    "import subprocess"
   ]
  },
  {
   "cell_type": "code",
   "execution_count": 94,
   "id": "1be9cf0e",
   "metadata": {
    "ExecuteTime": {
     "end_time": "2022-07-19T10:14:05.945379Z",
     "start_time": "2022-07-19T10:13:58.766828Z"
    }
   },
   "outputs": [],
   "source": [
    "list_files = subprocess.run([\"gsutil\", \"ls\", \"-l\", \"gs://wagon-data-802-marchand/twitter_data/\"], stdout=subprocess.PIPE, text=True, check=True)\n",
    "array_of_files = np.array([file.strip().split() for file in list_files.stdout.split('\\n')[:-2]])\n",
    "last_file = array_of_files[array_of_files[:, 1].argsort()][-1,2]\n",
    "\n",
    "\n",
    "fs = gcsfs.GCSFileSystem(project='wagon-bootcamp-802')\n",
    "with fs.open(last_file) as f:\n",
    "    df = pd.read_csv(f)"
   ]
  },
  {
   "cell_type": "code",
   "execution_count": 4,
   "id": "348a823d",
   "metadata": {
    "ExecuteTime": {
     "end_time": "2022-07-26T07:03:53.653659Z",
     "start_time": "2022-07-26T07:03:53.648576Z"
    }
   },
   "outputs": [],
   "source": [
    "df = pd.read_csv(\"../twitter_data_clean_data.csv\")"
   ]
  },
  {
   "cell_type": "code",
   "execution_count": 5,
   "id": "284e0a6d",
   "metadata": {
    "ExecuteTime": {
     "end_time": "2022-07-26T07:03:53.916167Z",
     "start_time": "2022-07-26T07:03:53.895627Z"
    }
   },
   "outputs": [
    {
     "data": {
      "text/html": [
       "<div>\n",
       "<style scoped>\n",
       "    .dataframe tbody tr th:only-of-type {\n",
       "        vertical-align: middle;\n",
       "    }\n",
       "\n",
       "    .dataframe tbody tr th {\n",
       "        vertical-align: top;\n",
       "    }\n",
       "\n",
       "    .dataframe thead th {\n",
       "        text-align: right;\n",
       "    }\n",
       "</style>\n",
       "<table border=\"1\" class=\"dataframe\">\n",
       "  <thead>\n",
       "    <tr style=\"text-align: right;\">\n",
       "      <th></th>\n",
       "      <th>text</th>\n",
       "      <th>created_at</th>\n",
       "      <th>id</th>\n",
       "      <th>lang</th>\n",
       "    </tr>\n",
       "  </thead>\n",
       "  <tbody>\n",
       "    <tr>\n",
       "      <th>0</th>\n",
       "      <td>📸 paddock today 😊 height difference though 👀 f...</td>\n",
       "      <td>2022-07-21 13:49:48+00:00</td>\n",
       "      <td>1550115832595824641</td>\n",
       "      <td>en</td>\n",
       "    </tr>\n",
       "    <tr>\n",
       "      <th>1</th>\n",
       "      <td>mercedes team boss toto wolff says “ everybody...</td>\n",
       "      <td>2022-07-21 13:49:36+00:00</td>\n",
       "      <td>1550115781257572353</td>\n",
       "      <td>en</td>\n",
       "    </tr>\n",
       "    <tr>\n",
       "      <th>2</th>\n",
       "      <td>racing news alonso confident french gp im phys...</td>\n",
       "      <td>2022-07-21 13:49:35+00:00</td>\n",
       "      <td>1550115777251926017</td>\n",
       "      <td>en</td>\n",
       "    </tr>\n",
       "    <tr>\n",
       "      <th>3</th>\n",
       "      <td>📰 haas use new front wing sideplate weekends f...</td>\n",
       "      <td>2022-07-21 13:49:35+00:00</td>\n",
       "      <td>1550115776538951680</td>\n",
       "      <td>en</td>\n",
       "    </tr>\n",
       "    <tr>\n",
       "      <th>4</th>\n",
       "      <td>’ bad luck last races competitive updates week...</td>\n",
       "      <td>2022-07-21 13:49:29+00:00</td>\n",
       "      <td>1550115750483935234</td>\n",
       "      <td>en</td>\n",
       "    </tr>\n",
       "    <tr>\n",
       "      <th>...</th>\n",
       "      <td>...</td>\n",
       "      <td>...</td>\n",
       "      <td>...</td>\n",
       "      <td>...</td>\n",
       "    </tr>\n",
       "    <tr>\n",
       "      <th>61</th>\n",
       "      <td>full confidence team team come back made mista...</td>\n",
       "      <td>2022-07-21 13:45:21+00:00</td>\n",
       "      <td>1550114712892743681</td>\n",
       "      <td>en</td>\n",
       "    </tr>\n",
       "    <tr>\n",
       "      <th>62</th>\n",
       "      <td>f sebastian vettel rumor hes moving mclaren an...</td>\n",
       "      <td>2022-07-21 13:45:17+00:00</td>\n",
       "      <td>1550114696216227844</td>\n",
       "      <td>en</td>\n",
       "    </tr>\n",
       "    <tr>\n",
       "      <th>63</th>\n",
       "      <td>𝐖𝐄𝐋𝐓𝐌𝐄𝐈𝐒𝐓𝐄𝐑 🏆🏆🏆🏆🏆 onthisday became king world ...</td>\n",
       "      <td>2022-07-21 13:45:05+00:00</td>\n",
       "      <td>1550114644076793862</td>\n",
       "      <td>en</td>\n",
       "    </tr>\n",
       "    <tr>\n",
       "      <th>64</th>\n",
       "      <td>one greatest seasons f1 history 🐐 essereferrari 🔴</td>\n",
       "      <td>2022-07-21 13:45:01+00:00</td>\n",
       "      <td>1550114628243312641</td>\n",
       "      <td>en</td>\n",
       "    </tr>\n",
       "    <tr>\n",
       "      <th>65</th>\n",
       "      <td>🎙 jean todt provides health update michael sch...</td>\n",
       "      <td>2022-07-21 13:44:55+00:00</td>\n",
       "      <td>1550114600623910912</td>\n",
       "      <td>en</td>\n",
       "    </tr>\n",
       "  </tbody>\n",
       "</table>\n",
       "<p>66 rows × 4 columns</p>\n",
       "</div>"
      ],
      "text/plain": [
       "                                                 text  \\\n",
       "0   📸 paddock today 😊 height difference though 👀 f...   \n",
       "1   mercedes team boss toto wolff says “ everybody...   \n",
       "2   racing news alonso confident french gp im phys...   \n",
       "3   📰 haas use new front wing sideplate weekends f...   \n",
       "4   ’ bad luck last races competitive updates week...   \n",
       "..                                                ...   \n",
       "61  full confidence team team come back made mista...   \n",
       "62  f sebastian vettel rumor hes moving mclaren an...   \n",
       "63  𝐖𝐄𝐋𝐓𝐌𝐄𝐈𝐒𝐓𝐄𝐑 🏆🏆🏆🏆🏆 onthisday became king world ...   \n",
       "64  one greatest seasons f1 history 🐐 essereferrari 🔴   \n",
       "65  🎙 jean todt provides health update michael sch...   \n",
       "\n",
       "                   created_at                   id lang  \n",
       "0   2022-07-21 13:49:48+00:00  1550115832595824641   en  \n",
       "1   2022-07-21 13:49:36+00:00  1550115781257572353   en  \n",
       "2   2022-07-21 13:49:35+00:00  1550115777251926017   en  \n",
       "3   2022-07-21 13:49:35+00:00  1550115776538951680   en  \n",
       "4   2022-07-21 13:49:29+00:00  1550115750483935234   en  \n",
       "..                        ...                  ...  ...  \n",
       "61  2022-07-21 13:45:21+00:00  1550114712892743681   en  \n",
       "62  2022-07-21 13:45:17+00:00  1550114696216227844   en  \n",
       "63  2022-07-21 13:45:05+00:00  1550114644076793862   en  \n",
       "64  2022-07-21 13:45:01+00:00  1550114628243312641   en  \n",
       "65  2022-07-21 13:44:55+00:00  1550114600623910912   en  \n",
       "\n",
       "[66 rows x 4 columns]"
      ]
     },
     "execution_count": 5,
     "metadata": {},
     "output_type": "execute_result"
    }
   ],
   "source": [
    "df"
   ]
  },
  {
   "cell_type": "code",
   "execution_count": 18,
   "id": "999c96ec",
   "metadata": {
    "ExecuteTime": {
     "end_time": "2022-07-26T07:27:58.152924Z",
     "start_time": "2022-07-26T07:27:58.148602Z"
    }
   },
   "outputs": [],
   "source": [
    "#import the library\n",
    "from vaderSentiment.vaderSentiment import SentimentIntensityAnalyzer\n",
    "\n",
    "#calculate the negative, positive, neutral and compound scores, plus verbal evaluation\n",
    "def sentiment_vader(row):\n",
    "\n",
    "    # Create a SentimentIntensityAnalyzer object.\n",
    "    sid_obj = SentimentIntensityAnalyzer()\n",
    "\n",
    "    sentiment_dict = sid_obj.polarity_scores(row['text'])\n",
    "    negative = sentiment_dict['neg']\n",
    "    neutral = sentiment_dict['neu']\n",
    "    positive = sentiment_dict['pos']\n",
    "    compound = sentiment_dict['compound']\n",
    "\n",
    "    if sentiment_dict['compound'] >= 0.05 :\n",
    "        overall_sentiment = \"Positive\"\n",
    "\n",
    "    elif sentiment_dict['compound'] <= - 0.05 :\n",
    "        overall_sentiment = \"Negative\"\n",
    "\n",
    "    else :\n",
    "        overall_sentiment = \"Neutral\"\n",
    "  \n",
    "    return negative, neutral, positive, compound, overall_sentiment"
   ]
  },
  {
   "cell_type": "code",
   "execution_count": 47,
   "id": "4c60cd8b",
   "metadata": {
    "ExecuteTime": {
     "end_time": "2022-07-26T07:55:00.103821Z",
     "start_time": "2022-07-26T07:54:59.730710Z"
    }
   },
   "outputs": [],
   "source": [
    "df[\"negative\"], df[\"neutral\"], df[\"positive\"], df[\"compound\"], df[\"overall_sentiment\"] = zip(*df.apply(sentiment_vader, axis=1))"
   ]
  },
  {
   "cell_type": "code",
   "execution_count": null,
   "id": "f0b5a931",
   "metadata": {},
   "outputs": [],
   "source": []
  }
 ],
 "metadata": {
  "kernelspec": {
   "display_name": "venv",
   "language": "python",
   "name": "venv"
  },
  "language_info": {
   "codemirror_mode": {
    "name": "ipython",
    "version": 3
   },
   "file_extension": ".py",
   "mimetype": "text/x-python",
   "name": "python",
   "nbconvert_exporter": "python",
   "pygments_lexer": "ipython3",
   "version": "3.9.9"
  },
  "toc": {
   "base_numbering": 1,
   "nav_menu": {},
   "number_sections": true,
   "sideBar": true,
   "skip_h1_title": false,
   "title_cell": "Table of Contents",
   "title_sidebar": "Contents",
   "toc_cell": false,
   "toc_position": {},
   "toc_section_display": true,
   "toc_window_display": false
  }
 },
 "nbformat": 4,
 "nbformat_minor": 5
}
