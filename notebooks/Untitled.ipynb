{
 "cells": [
  {
   "cell_type": "code",
   "execution_count": 3,
   "id": "c17f35fa",
   "metadata": {
    "ExecuteTime": {
     "end_time": "2022-07-31T06:59:03.284003Z",
     "start_time": "2022-07-31T06:59:03.273003Z"
    }
   },
   "outputs": [],
   "source": [
    "from jsonschema import validate"
   ]
  },
  {
   "cell_type": "code",
   "execution_count": 47,
   "id": "19ed5dac",
   "metadata": {
    "ExecuteTime": {
     "end_time": "2022-07-31T07:54:51.245607Z",
     "start_time": "2022-07-31T07:54:51.207971Z"
    }
   },
   "outputs": [],
   "source": [
    "json = {'data': [{'lang': 'es',\n",
    "   'created_at': '2022-07-31T07:01:12.000Z',\n",
    "   'text': 'RT @eduardo_Iuna: 🏎️🏁 ASÍ QUEDÓ LA POLE 👇\\n\\n1️⃣ George Russell\\n2️⃣ Carlos Sainz\\n3️⃣ Charles leclerc\\n⬇️ Max Verstappen\\n⬇️ Checo Pérez\\n\\nVamos…',\n",
    "   'id': '1553636879962103808'},\n",
    "  {'lang': 'en',\n",
    "   'created_at': '2022-07-31T07:01:09.000Z',\n",
    "   'text': '#F1 2022 #HungaryGP how to watch?\\nhttps://t.co/WEtWzsstD3',\n",
    "   'id': '1553636869514137602'},\n",
    "  {'lang': 'en',\n",
    "   'created_at': '2022-07-31T07:01:03.000Z',\n",
    "   'text': 'RT @Cla_Cottingham: Lewis Hamilton spoke today about his visit to the W Series paddock. He said we need to do more for young girls to get i…',\n",
    "   'id': '1553636845459849216'},\n",
    "  {'lang': 'en',\n",
    "   'created_at': '2022-07-31T07:01:01.000Z',\n",
    "   'text': \"Going to be fun tonight to see if @GeorgeRussell63 can take his first #F1 win with two very fast Ferrari's right behind him. https://t.co/UC6kcVjsN0\",\n",
    "   'id': '1553636837461475328'},\n",
    "  {'lang': 'sl',\n",
    "   'created_at': '2022-07-31T07:00:55.000Z',\n",
    "   'text': 'STRATEŠKI KOTIČEK: Ekipe na precepu, saj je na Hungaroringu težko prehitevati, a najtrša pnevmatika se v petek ni izkazala  #F1 #F1si #F1slo - https://t.co/7T1BLd5TgX',\n",
    "   'id': '1553636810240163842'},\n",
    "  {'lang': 'es',\n",
    "   'created_at': '2022-07-31T07:00:49.000Z',\n",
    "   'text': 'RT @AlbertFabrega: Los mejores parciales y velocidades máximas. Sainz tenía la pole sumando sus mejores parciales. Williams son los más ráp…',\n",
    "   'id': '1553636785263038464'},\n",
    "  {'lang': 'en',\n",
    "   'created_at': '2022-07-31T07:00:46.000Z',\n",
    "   'text': 'RT @F1Insider_: It’s currently raining in Budapest but it’ll dry up before the start of the race. \\n\\n#F1 #HungarianGP',\n",
    "   'id': '1553636773795971073'},\n",
    "  {'lang': 'es',\n",
    "   'created_at': '2022-07-31T07:00:40.000Z',\n",
    "   'text': 'RT @eduardo_Iuna: 🏎️🏁🏆🍾¡Feliz retiro! Estoy muy orgulloso de ti y orgulloso de todo lo que lograste en el deporte.\\n\\n¡Es hora de disfrutar d…',\n",
    "   'id': '1553636749217304576'},\n",
    "  {'lang': 'pt',\n",
    "   'created_at': '2022-07-31T07:00:36.000Z',\n",
    "   'text': 'Não vou dormir até terminar a corrida 🏎️\\n#domingodeyremurasdv\\n#F1naBand \\n#F1',\n",
    "   'id': '1553636732771647488'},\n",
    "  {'lang': 'en',\n",
    "   'created_at': '2022-07-31T07:00:30.000Z',\n",
    "   'text': \"George Russell delighted his team and stunned the crowd at the Hungaroring when he claimed pole position for today's #HungarianGP \\n\\nCan he claim victory today? #F1\\n\\n🏎️Race Markets_ https://t.co/CTRIrFZ8Ey https://t.co/c62xWeVY6d\",\n",
    "   'id': '1553636706020204545'},\n",
    "  {'lang': 'en',\n",
    "   'created_at': '2022-07-31T07:00:28.000Z',\n",
    "   'text': 'RT @ChrisMedlandF1: Race day morning in Budapest and we’ve got some rain. Forecast suggests there might be some around until a few hours be…',\n",
    "   'id': '1553636695626731520'},\n",
    "  {'lang': 'en',\n",
    "   'created_at': '2022-07-31T07:00:24.000Z',\n",
    "   'text': \"Person number 9689 who would win in any Mercedes of F1's Hybrid Era: @turkelikardelen #F1 #peopleWhoWouldWinInMercedes #MercedesDominance\",\n",
    "   'id': '1553636682574036992'},\n",
    "  {'lang': 'en',\n",
    "   'created_at': '2022-07-31T07:00:10.000Z',\n",
    "   'text': 'RT @NaturalParadigm: With the top speed Mercedes brought to Hungary, Russell may actually prove rather difficult to pass... 🍿\\n\\n#HungarianGP…',\n",
    "   'id': '1553636621253111808'},\n",
    "  {'lang': 'en',\n",
    "   'created_at': '2022-07-31T07:00:01.000Z',\n",
    "   'text': 'TODAY IS THE DAY FOR QUALIFYING! 🤔\\n\\nWhat are we thinking for the weather ragazzi?\\n\\n#HungarianGP #F1 #Charles16 🏆 https://t.co/qK8UJdvijx',\n",
    "   'id': '1553636583848288257'},\n",
    "  {'lang': 'en',\n",
    "   'created_at': '2022-07-31T07:00:01.000Z',\n",
    "   'text': '\"...because he addressed all the problems directly, so in part was very uncomfortable\" #F1\\n\\nhttps://t.co/t5yigmpB3T',\n",
    "   'id': '1553636583781310465'},\n",
    "  {'lang': 'en',\n",
    "   'created_at': '2022-07-31T07:00:01.000Z',\n",
    "   'text': 'Mick Schumacher showing flashes of his dads speed in the FIA European F3 series at Silverstone, 2018.\\n\\nCamera - Nikon D3200\\nLens - AF-S Nikkor 55-200mm 4-5.6G (Kit Lens)\\n\\n#mickschumacher #michealschumacher #f1 #HungarianGP @SilverstoneUK #europeanf3 #Formula1 @F1 @SchumacherMick https://t.co/TFlX7wiQPT',\n",
    "   'id': '1553636582728486913'},\n",
    "  {'lang': 'tr',\n",
    "   'created_at': '2022-07-31T07:00:01.000Z',\n",
    "   'text': 'Lewis Hamilton 2013 yılında Mercedes ile ilk galibiyetine Macaristan’da ulaşmıştı.\\n\\nBugün Pole Pozisyonundan başlayacak Russell sizce takım arkadaşının izinden giderek Mercedes ile ilk galibiyetine ulaşır mı❓\\n\\n#HungarianGP #F1 https://t.co/DVeRTXdP7h',\n",
    "   'id': '1553636582262915074'},\n",
    "  {'lang': 'en',\n",
    "   'created_at': '2022-07-31T07:00:00.000Z',\n",
    "   'text': \"Updated #HungaryGP Betting Odds &amp; Markets entering today's race 🇭🇺 \\n\\n#F1 #GamblingTwitter \\n\\nhttps://t.co/c5OKX246ys\",\n",
    "   'id': '1553636581713448960'},\n",
    "  {'lang': 'nl',\n",
    "   'created_at': '2022-07-31T07:00:00.000Z',\n",
    "   'text': 'Wanneer gaat het #F1 seizoen weer verder na de #HungarianGP?\\n\\nhttps://t.co/krcfEaHmfP https://t.co/1OMcv82Ltq',\n",
    "   'id': '1553636581239508993'},\n",
    "  {'lang': 'fr',\n",
    "   'created_at': '2022-07-31T07:00:00.000Z',\n",
    "   'text': 'Et si on se réveillait avec une bonne dose de frisson, ça vous dit ? 😁\\n\\nLa pole position de George Russell avec les commentaires, toujours exceptionnels, de @Julien_FEBREAU et Jacques Villeneuve ! Un pur bonheur ! 😍\\n\\n#F1 #HungarianGP 🇭🇺\\n\\nhttps://t.co/syrV97DkDq',\n",
    "   'id': '1553636579322757121'},\n",
    "  {'lang': 'en',\n",
    "   'created_at': '2022-07-31T06:59:58.000Z',\n",
    "   'text': 'When it goes wrong:\\n\\nLewis: we win &amp; lose together guys, let’s focus on tomorrow\\n\\nMax: fix it, this is crazy, aaarrgghh I can’t believe this\\n\\nIt’s all about HOW you go on this journey called life\\n\\n@LewisHamilton @MercedesAMGF1 \\n#F1 #hungariangp #StillWeRise #TeamLH #LH44 https://t.co/nb0S5rsVkl',\n",
    "   'id': '1553636572293206016'},\n",
    "  {'lang': 'en',\n",
    "   'created_at': '2022-07-31T06:59:57.000Z',\n",
    "   'text': 'RT @F1RulesMedia: George Russell and Max Verstappen post-quali \\n\\n#HungarianGP #F1 https://t.co/lnRLChymVe',\n",
    "   'id': '1553636569252249600'},\n",
    "  {'lang': 'en',\n",
    "   'created_at': '2022-07-31T06:59:56.000Z',\n",
    "   'text': '@JournoHenry can the press please stop writing about Michael #schumacher, have some respect and give the family the privacy they deserve. Thank you #F1',\n",
    "   'id': '1553636564663681026'},\n",
    "  {'lang': 'en',\n",
    "   'created_at': '2022-07-31T06:59:53.000Z',\n",
    "   'text': 'RT @LordHumphreys: REMINDER: Helmut Marko is a horrible human being and embodies much of the toxic environment that appears to exist in Red…',\n",
    "   'id': '1553636549056729088'},\n",
    "  {'lang': 'nl',\n",
    "   'created_at': '2022-07-31T06:59:50.000Z',\n",
    "   'text': 'Er zijn dertien kwalificatieduels geweest in 2022  🧐\\n\\nhttps://t.co/58qOQLptwQ \\n\\n#Russell #Hamilton #Perez #Verstappen #HungarianGP #F1 #Formule1',\n",
    "   'id': '1553636536746446849'},\n",
    "  {'lang': 'en',\n",
    "   'created_at': '2022-07-31T06:59:46.000Z',\n",
    "   'text': 'RT @ChrisMedlandF1: Race day morning in Budapest and we’ve got some rain. Forecast suggests there might be some around until a few hours be…',\n",
    "   'id': '1553636522766876676'}],\n",
    " 'meta': {'newest_id': '1553636879962103808',\n",
    "  'oldest_id': '1553636522766876676',\n",
    "  'result_count': 26}}"
   ]
  },
  {
   "cell_type": "code",
   "execution_count": 34,
   "id": "6cadab03",
   "metadata": {
    "ExecuteTime": {
     "end_time": "2022-07-31T07:43:40.215156Z",
     "start_time": "2022-07-31T07:43:40.201242Z"
    }
   },
   "outputs": [],
   "source": [
    "schema = {\n",
    "    \"type\": \"array\",\n",
    "    \"items\": {\n",
    "        \"type\": \"object\",\n",
    "        \"properties\": {\n",
    "            \"lang\": { \"type\": \"string\" },\n",
    "            \"created_at\": { \"type\": \"string\" },\n",
    "            \"text\": { \"type\": \"string\" },\n",
    "            \"id\": {\"type\": \"string\" }\n",
    "        },\n",
    "        \"additionalProperties\": False,\n",
    "        \"required\": [\"lang\", \"created_at\", \"text\", \"id\"]\n",
    "    }\n",
    "}"
   ]
  },
  {
   "cell_type": "code",
   "execution_count": 48,
   "id": "a14685a1",
   "metadata": {
    "ExecuteTime": {
     "end_time": "2022-07-31T07:54:54.976959Z",
     "start_time": "2022-07-31T07:54:54.944541Z"
    }
   },
   "outputs": [],
   "source": [
    "validate(instance=json, schema=schema)"
   ]
  },
  {
   "cell_type": "code",
   "execution_count": 39,
   "id": "dd4d193e",
   "metadata": {
    "ExecuteTime": {
     "end_time": "2022-07-31T07:53:51.706556Z",
     "start_time": "2022-07-31T07:53:51.692789Z"
    }
   },
   "outputs": [],
   "source": [
    "schema = {\n",
    "    \"type\": \"object\",\n",
    "    \"properties\": {\n",
    "        \"data\": {\n",
    "            \"type\": \"array\",\n",
    "            \"items\": {\n",
    "                \"type\": \"object\",\n",
    "                \"properties\": {\n",
    "                    \"lang\": { \"type\": \"string\" },\n",
    "                    \"created_at\": { \"type\": \"string\" },\n",
    "                    \"text\": { \"type\": \"string\" },\n",
    "                    \"id\": {\"type\": \"string\" }\n",
    "                },\n",
    "                \"additionalProperties\": False,\n",
    "                \"required\": [\"lang\", \"created_at\", \"text\", \"id\"]\n",
    "            }\n",
    "        },\n",
    "        \"meta\": {\n",
    "            \"type\": \"object\",\n",
    "            \"properties\": {\n",
    "                \"newest_id\": { \"type\": \"string\" },\n",
    "                \"oldest_id\": { \"type\": \"string\" },\n",
    "                \"result_count\": { \"type\": \"number\" },\n",
    "                \"next_token\": {\"type\": \"string\"}\n",
    "            },\n",
    "            \"additionalProperties\": False,\n",
    "            \"required\": [\"newest_id\", \"oldest_id\", \"result_count\"]\n",
    "        }\n",
    "    \n",
    "    }\n",
    "    \n",
    "}"
   ]
  },
  {
   "cell_type": "code",
   "execution_count": null,
   "id": "44d45913",
   "metadata": {},
   "outputs": [],
   "source": []
  }
 ],
 "metadata": {
  "kernelspec": {
   "display_name": "venv",
   "language": "python",
   "name": "venv"
  },
  "language_info": {
   "codemirror_mode": {
    "name": "ipython",
    "version": 3
   },
   "file_extension": ".py",
   "mimetype": "text/x-python",
   "name": "python",
   "nbconvert_exporter": "python",
   "pygments_lexer": "ipython3",
   "version": "3.9.9"
  },
  "toc": {
   "base_numbering": 1,
   "nav_menu": {},
   "number_sections": true,
   "sideBar": true,
   "skip_h1_title": false,
   "title_cell": "Table of Contents",
   "title_sidebar": "Contents",
   "toc_cell": false,
   "toc_position": {},
   "toc_section_display": true,
   "toc_window_display": false
  }
 },
 "nbformat": 4,
 "nbformat_minor": 5
}
